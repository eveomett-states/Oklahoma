{
 "cells": [
  {
   "cell_type": "code",
   "execution_count": 1,
   "metadata": {},
   "outputs": [],
   "source": [
    "import pandas as pd\n",
    "import geopandas as gpd\n",
    "import maup\n",
    "import time\n",
    "from maup import smart_repair\n",
    "from gerrychain import Graph\n",
    "\n",
    "maup.progress.enabled = True"
   ]
  },
  {
   "cell_type": "code",
   "execution_count": 2,
   "metadata": {},
   "outputs": [],
   "source": [
    "import warnings\n",
    "warnings.filterwarnings(\"ignore\")"
   ]
  },
  {
   "cell_type": "code",
   "execution_count": 4,
   "metadata": {},
   "outputs": [],
   "source": [
    "# state = Oklahoma\n",
    "state_ab = \"ok\""
   ]
  },
  {
   "cell_type": "markdown",
   "metadata": {},
   "source": [
    "## Data\n",
    "1. Download all the data in directory \"ok_data\"\n",
    "2. Extract them all"
   ]
  },
  {
   "cell_type": "code",
   "execution_count": 5,
   "metadata": {},
   "outputs": [],
   "source": [
    "data_folder = state_ab + \"_data/\"\n",
    "population1_data = \"./{}{}_pl2020_b/{}_pl2020_p1_b.shp\".format(data_folder, state_ab, state_ab)\n",
    "population2_data = \"./{}{}_pl2020_b/{}_pl2020_p2_b.shp\".format(data_folder, state_ab, state_ab)\n",
    "vap_data = \"./{}{}_pl2020_b/{}_pl2020_p4_b.shp\".format(data_folder, state_ab, state_ab)\n",
    "vest20_data = \"./{}{}_vest_20/{}_vest_20.shp\".format(data_folder, state_ab, state_ab)\n",
    "vest18_data = \"./{}{}_vest_18/{}_vest_18.shp\".format(data_folder, state_ab, state_ab)\n",
    "vest16_data = \"./{}{}_vest_16/{}_vest_16.shp\".format(data_folder, state_ab, state_ab)\n",
    "cd_data = \"./{}{}_cong_2021/{}_cong_2021.shp\".format(data_folder, state_ab, state_ab)\n",
    "send_data = \"./{}{}_sldu_2021/{}_sldu_2021.shp\".format(data_folder, state_ab, state_ab)\n",
    "hdist_data = \"./{}{}_sldl_2021/{}_sldl_2021.shp\".format(data_folder, state_ab, state_ab)\n",
    "county_data = \"./{}{}_pl2020_cnty/{}_pl2020_cnty.shp\".format(data_folder, state_ab, state_ab)"
   ]
  },
  {
   "cell_type": "code",
   "execution_count": 6,
   "metadata": {},
   "outputs": [],
   "source": [
    "def do_smart_repair(df, min_rook_length = None, snap_precision = 10):\n",
    "    # change it to the UTM it needs for smart_repair\n",
    "    df = df.to_crs(df.estimate_utm_crs())\n",
    "    df = smart_repair(df, min_rook_length = min_rook_length, snap_precision = snap_precision)\n",
    "\n",
    "    if maup.doctor(df) == False:\n",
    "        raise Exception('maup.doctor failed')\n",
    "    \n",
    "    return df"
   ]
  },
  {
   "cell_type": "code",
   "execution_count": 7,
   "metadata": {},
   "outputs": [],
   "source": [
    "def add_district(dist_df, dist_name, election_df, col_name):\n",
    "    election_df = election_df.to_crs(election_df.estimate_utm_crs())\n",
    "    dist_df = dist_df.to_crs(dist_df.estimate_utm_crs())\n",
    "    # check if it needs to be smart_repair\n",
    "    if maup.doctor(dist_df) != True:\n",
    "        dist_df = do_smart_repair(dist_df)\n",
    "\n",
    "    # assign the pricincts\n",
    "    precincts_to_district_assignment = maup.assign(election_df.geometry, dist_df.geometry)\n",
    "    election_df[dist_name] = precincts_to_district_assignment\n",
    "    for precinct_index in range(len(election_df)):\n",
    "        election_df.at[precinct_index, dist_name] = dist_df.at[election_df.at[precinct_index, dist_name], col_name]\n",
    "\n",
    "    return election_df"
   ]
  },
  {
   "cell_type": "code",
   "execution_count": 8,
   "metadata": {},
   "outputs": [],
   "source": [
    "def rename(original, year):\n",
    "    party = original[6]\n",
    "    if party == 'R' or party == 'D':\n",
    "        return original[3:6] + year + original[6]\n",
    "    else:\n",
    "        return original[3:6] + year + 'O'"
   ]
  },
  {
   "cell_type": "code",
   "execution_count": 9,
   "metadata": {},
   "outputs": [],
   "source": [
    "pop_col = ['TOTPOP', 'HISP', 'NH_WHITE', 'NH_BLACK', 'NH_AMIN', 'NH_ASIAN', 'NH_NHPI', 'NH_OTHER', 'NH_2MORE', 'H_WHITE', 'H_BLACK', 'H_AMIN', 'H_ASIAN', 'H_NHPI', 'H_OTHER', 'H_2MORE', 'VAP', 'HVAP', 'WVAP', 'BVAP', 'AMINVAP', 'ASIANVAP', 'NHPIVAP', 'OTHERVAP', '2MOREVAP']"
   ]
  },
  {
   "cell_type": "code",
   "execution_count": 10,
   "metadata": {},
   "outputs": [],
   "source": [
    "def check_population(population, df):\n",
    "    pop_check = pd.DataFrame({\n",
    "        'pop_col': pop_col,\n",
    "        'population_df': population[pop_col].sum(), \n",
    "        'vest_base': df[pop_col].sum(),\n",
    "        'equal': [x == y for x, y in zip(population[pop_col].sum(), df[pop_col].sum())]\n",
    "    })\n",
    "    if pop_check['equal'].mean() < 1:\n",
    "        print(pop_check)\n",
    "        raise Exception(\"population doesn't agree\")\n",
    "\n",
    "    else:\n",
    "        print(\"population agrees\")"
   ]
  },
  {
   "cell_type": "code",
   "execution_count": 11,
   "metadata": {},
   "outputs": [],
   "source": [
    "def add_vest(vest, df, year, population, start_col, snap_precision = 10):\n",
    "    df = df.to_crs(df.estimate_utm_crs())\n",
    "    vest = vest.to_crs(vest.estimate_utm_crs())\n",
    "    population = population.to_crs(population.estimate_utm_crs())\n",
    "    df_crs = df.crs\n",
    "    vest_crs = vest.crs\n",
    "    \n",
    "     # check if it needs to be smart_repair\n",
    "    if maup.doctor(vest) != True:\n",
    "        vest = do_smart_repair(vest, snap_precision = snap_precision)\n",
    "    \n",
    "    # rename the columns\n",
    "    original_col = vest.columns[start_col:-1]\n",
    "    new_col = [rename(i, year) for i in original_col]\n",
    "    rename_dict = dict(zip(original_col, new_col))\n",
    "    vest = vest.rename(columns=rename_dict)\n",
    "    vest = vest.groupby(level=0, axis=1).sum() # combine all the other party's vote into columns with sufix \"O\"\n",
    "    col_name = list(set(new_col))\n",
    "    col_name.sort()\n",
    "    \n",
    "    # make the blocks from precincts by weight\n",
    "    vest = gpd.GeoDataFrame(vest, crs=vest_crs)\n",
    "    election_in_block = population[[\"VAP\", 'geometry']] # population_df is in block scale\n",
    "    blocks_to_precincts_assignment = maup.assign(election_in_block.geometry, vest.geometry)\n",
    "    weights = election_in_block[\"VAP\"] / blocks_to_precincts_assignment.map(election_in_block[\"VAP\"].groupby(blocks_to_precincts_assignment).sum())\n",
    "    weights = weights.fillna(0)\n",
    "    prorated = maup.prorate(blocks_to_precincts_assignment, vest[col_name], weights)\n",
    "    election_in_block[col_name] = prorated\n",
    "    \n",
    "    # assign blocks to precincts\n",
    "    election_in_block = gpd.GeoDataFrame(election_in_block, crs=vest_crs)\n",
    "    df = gpd.GeoDataFrame(df, crs=df_crs)\n",
    "    block_to_pricinct_assginment = maup.assign(election_in_block.geometry, df.geometry)\n",
    "    df[col_name] = election_in_block[col_name].groupby(block_to_pricinct_assginment).sum()\n",
    "    df = df.groupby(level=0, axis=1).sum()\n",
    "    df = gpd.GeoDataFrame(df, crs = df_crs)\n",
    "    # check if population agrees\n",
    "    check_population(population, df)\n",
    "    \n",
    "    return df"
   ]
  },
  {
   "cell_type": "code",
   "execution_count": 12,
   "metadata": {},
   "outputs": [],
   "source": [
    "def add_vest_base(vest, start_col, year, county = None, min_rook_length = None, snap_precision = 10):\n",
    "    vest = vest.to_crs(vest.estimate_utm_crs())\n",
    "    vest_crs = vest.crs\n",
    "    original_col = vest.columns[start_col:-1]\n",
    "    new_col = [rename(i, year) for i in original_col]\n",
    "    rename_dict = dict(zip(original_col, new_col))\n",
    "    vest = vest.rename(columns=rename_dict)\n",
    "    vest = vest.groupby(level=0, axis=1).sum()\n",
    "    vest = gpd.GeoDataFrame(vest, crs=vest_crs)\n",
    "\n",
    "    if county is not None:\n",
    "        county = county.to_crs(county.estimate_utm_crs())\n",
    "        vest = smart_repair(vest, nest_within_regions = county, min_rook_length = min_rook_length, snap_precision = snap_precision) # nest precincts within counties\n",
    "\n",
    "    else:\n",
    "        vest = smart_repair(vest, min_rook_length = min_rook_length, snap_precision = snap_precision) \n",
    "    \n",
    "    return vest"
   ]
  },
  {
   "cell_type": "code",
   "execution_count": 13,
   "metadata": {},
   "outputs": [],
   "source": [
    "def check_small_boundary_lengths(vest_base):\n",
    "    import copy\n",
    "    vest_base = vest_base.to_crs(vest_base.estimate_utm_crs())\n",
    "\n",
    "    boundaries = copy.deepcopy(vest_base)\n",
    "    boundaries[\"geometry\"] = boundaries.geometry.boundary  # get boundaries\n",
    "    neighbors = gpd.sjoin(boundaries, vest_base, predicate=\"intersects\") # find boundaries that intersect\n",
    "    neighbors = neighbors[neighbors.index != neighbors.index_right] # remove boundaries of a region with itself\n",
    "\n",
    "    # compute shared border length using intersection\n",
    "    borders = list(neighbors.apply(\n",
    "        lambda row: row.geometry.intersection(vest_base.loc[row.index_right, \"geometry\"]).length, axis=1\n",
    "    ))\n",
    "\n",
    "    borders.sort()\n",
    "    \n",
    "    return borders"
   ]
  },
  {
   "cell_type": "markdown",
   "metadata": {},
   "source": [
    "### Read the census data"
   ]
  },
  {
   "cell_type": "code",
   "execution_count": 14,
   "metadata": {},
   "outputs": [],
   "source": [
    "population1_df = gpd.read_file(population1_data)\n",
    "population2_df = gpd.read_file(population2_data)\n",
    "vap_df = gpd.read_file(vap_data)\n",
    "county_df = gpd.read_file(county_data)"
   ]
  },
  {
   "cell_type": "code",
   "execution_count": 15,
   "metadata": {},
   "outputs": [],
   "source": [
    "population2_df = population2_df.drop(columns=['SUMLEV', 'LOGRECNO', 'GEOID', 'COUNTY', 'geometry'])\n",
    "vap_df = vap_df.drop(columns=['SUMLEV', 'LOGRECNO', 'GEOID', 'COUNTY', 'geometry'])"
   ]
  },
  {
   "cell_type": "code",
   "execution_count": 16,
   "metadata": {},
   "outputs": [],
   "source": [
    "population_df = pd.merge(population1_df, population2_df, on='GEOID20')\n",
    "population_df = pd.merge(population_df, vap_df, on='GEOID20')\n",
    "population_df = population_df.to_crs(population_df.estimate_utm_crs())"
   ]
  },
  {
   "cell_type": "code",
   "execution_count": 17,
   "metadata": {},
   "outputs": [
    {
     "name": "stderr",
     "output_type": "stream",
     "text": [
      "100%|███████████████████████████████████| 180154/180154 [01:03<00:00, 2844.82it/s]\n"
     ]
    },
    {
     "data": {
      "text/plain": [
       "True"
      ]
     },
     "execution_count": 17,
     "metadata": {},
     "output_type": "execute_result"
    }
   ],
   "source": [
    "maup.doctor(population_df)"
   ]
  },
  {
   "cell_type": "code",
   "execution_count": 18,
   "metadata": {},
   "outputs": [],
   "source": [
    "population_df['H_WHITE'] = population_df.apply(lambda t: t['P0010003'] - t['P0020005'], 1)\n",
    "population_df['H_BLACK'] = population_df.apply(lambda t: t['P0010004'] - t['P0020006'], 1)\n",
    "population_df['H_AMIN'] = population_df.apply(lambda t: t['P0010005'] - t['P0020007'], 1)\n",
    "population_df['H_ASIAN'] = population_df.apply(lambda t: t['P0010006'] - t['P0020008'], 1)\n",
    "population_df['H_NHPI'] = population_df.apply(lambda t: t['P0010007'] - t['P0020009'], 1)\n",
    "population_df['H_OTHER'] = population_df.apply(lambda t: t['P0010008'] - t['P0020010'], 1)\n",
    "population_df['H_2MORE'] = population_df.apply(lambda t: t['P0010009'] - t['P0020011'], 1)"
   ]
  },
  {
   "cell_type": "code",
   "execution_count": 19,
   "metadata": {},
   "outputs": [],
   "source": [
    "rename_dict = {'P0020001': 'TOTPOP', 'P0020002': 'HISP', 'P0020005': 'NH_WHITE', 'P0020006': 'NH_BLACK', 'P0020007': 'NH_AMIN',\n",
    "                    'P0020008': 'NH_ASIAN', 'P0020009': 'NH_NHPI', 'P0020010': 'NH_OTHER', 'P0020011': 'NH_2MORE',\n",
    "                    'P0040001': 'VAP', 'P0040002': 'HVAP', 'P0040005': 'WVAP', 'P0040006': 'BVAP', 'P0040007': 'AMINVAP',\n",
    "                                        'P0040008': 'ASIANVAP', 'P0040009': 'NHPIVAP', 'P0040010': 'OTHERVAP', 'P0040011': '2MOREVAP'}"
   ]
  },
  {
   "cell_type": "code",
   "execution_count": 20,
   "metadata": {},
   "outputs": [],
   "source": [
    "population_df.rename(columns=rename_dict, inplace = True)"
   ]
  },
  {
   "cell_type": "markdown",
   "metadata": {},
   "source": [
    "Make sure that the County shapefile is clean:"
   ]
  },
  {
   "cell_type": "code",
   "execution_count": 21,
   "metadata": {},
   "outputs": [
    {
     "name": "stderr",
     "output_type": "stream",
     "text": [
      "100%|████████████████████████████████████████████| 77/77 [00:00<00:00, 379.97it/s]\n"
     ]
    },
    {
     "data": {
      "text/plain": [
       "True"
      ]
     },
     "execution_count": 21,
     "metadata": {},
     "output_type": "execute_result"
    }
   ],
   "source": [
    "maup.doctor(county_df)"
   ]
  },
  {
   "cell_type": "markdown",
   "metadata": {},
   "source": [
    "## Read the vest 20 data\n",
    "\n",
    "Now using it as a \"base pricinct\""
   ]
  },
  {
   "cell_type": "markdown",
   "metadata": {},
   "source": [
    "## Check if vest20 can be used as base"
   ]
  },
  {
   "cell_type": "code",
   "execution_count": 22,
   "metadata": {},
   "outputs": [],
   "source": [
    "vest20 = gpd.read_file(vest20_data)"
   ]
  },
  {
   "cell_type": "code",
   "execution_count": 23,
   "metadata": {
    "scrolled": true
   },
   "outputs": [
    {
     "data": {
      "text/plain": [
       "Index(['STATEFP', 'COUNTYFP', 'COUNTY_NAM', 'PCT_CEB', 'GEOID', 'G20PRERTRU',\n",
       "       'G20PREDBID', 'G20PRELJOR', 'G20PREIWES', 'G20PREISIM', 'G20PREIPIE',\n",
       "       'G20USSRINH', 'G20USSDBRO', 'G20USSLMUR', 'G20USSIFAR', 'G20USSINES',\n",
       "       'G20COCRHIE', 'G20COCLHAG', 'geometry'],\n",
       "      dtype='object')"
      ]
     },
     "execution_count": 23,
     "metadata": {},
     "output_type": "execute_result"
    }
   ],
   "source": [
    "vest20.columns"
   ]
  },
  {
   "cell_type": "code",
   "execution_count": 24,
   "metadata": {},
   "outputs": [],
   "source": [
    "start_col = 5\n",
    "vest_base_data = vest20\n",
    "year = '20'"
   ]
  },
  {
   "cell_type": "code",
   "execution_count": 25,
   "metadata": {
    "scrolled": true
   },
   "outputs": [
    {
     "name": "stderr",
     "output_type": "stream",
     "text": [
      "100%|████████████████████████████████████████████| 77/77 [00:00<00:00, 386.32it/s]\n"
     ]
    },
    {
     "name": "stdout",
     "output_type": "stream",
     "text": [
      "Snapping all geometries to a grid with precision 10^( -5 ) to avoid GEOS errors.\n"
     ]
    },
    {
     "name": "stderr",
     "output_type": "stream",
     "text": [
      "100%|███████████████████████████████████████████| 77/77 [00:00<00:00, 1217.86it/s]\n",
      "100%|████████████████████████████████████████████| 77/77 [00:00<00:00, 156.46it/s]\n"
     ]
    },
    {
     "name": "stdout",
     "output_type": "stream",
     "text": [
      "Identifying overlaps...\n"
     ]
    },
    {
     "name": "stderr",
     "output_type": "stream",
     "text": [
      "100%|███████████████████████████████████████| 6851/6851 [00:02<00:00, 2339.83it/s]\n"
     ]
    },
    {
     "name": "stdout",
     "output_type": "stream",
     "text": [
      "Resolving overlaps and filling gaps...\n"
     ]
    },
    {
     "name": "stderr",
     "output_type": "stream",
     "text": [
      "100%|███████████████████████████████████████████| 77/77 [00:00<00:00, 1415.55it/s]\n",
      "100%|████████████████████████████████████████████| 77/77 [00:00<00:00, 159.65it/s]\n",
      "Gaps to simplify in region 0: 100%|███████████████| 42/42 [00:16<00:00,  2.56it/s]\n",
      "Gaps to fill in region 0: 100%|██████████████████| 88/88 [00:00<00:00, 106.91it/s]\n",
      "Gaps to simplify in region 1: 100%|█████████████| 137/137 [00:05<00:00, 26.57it/s]\n",
      "Gaps to fill in region 1: 100%|███████████████████| 29/29 [00:00<00:00, 51.99it/s]\n",
      "Gaps to simplify in region 2: 100%|█████████████████| 9/9 [00:15<00:00,  1.69s/it]\n",
      "Gaps to fill in region 2: 100%|███████████████████| 66/66 [00:01<00:00, 62.08it/s]\n",
      "Gaps to simplify in region 3: 100%|███████████████| 36/36 [00:05<00:00,  6.60it/s]\n",
      "Gaps to fill in region 3: 100%|███████████████████| 35/35 [00:00<00:00, 77.38it/s]\n",
      "Gaps to simplify in region 4: 100%|███████████████| 40/40 [00:07<00:00,  5.33it/s]\n",
      "Gaps to fill in region 4: 100%|███████████████████| 60/60 [00:00<00:00, 95.56it/s]\n",
      "Gaps to simplify in region 5: 100%|███████████████| 27/27 [00:10<00:00,  2.70it/s]\n",
      "Gaps to fill in region 5: 100%|███████████████████| 61/61 [00:00<00:00, 77.75it/s]\n",
      "Gaps to simplify in region 6: 100%|███████████████| 29/29 [00:17<00:00,  1.71it/s]\n",
      "Gaps to fill in region 6: 100%|███████████████████| 48/48 [00:02<00:00, 16.60it/s]\n",
      "Gaps to simplify in region 7: 100%|███████████████| 31/31 [00:04<00:00,  6.85it/s]\n",
      "Gaps to fill in region 7: 100%|███████████████████| 41/41 [00:01<00:00, 37.37it/s]\n",
      "Gaps to simplify in region 8: 100%|███████████████| 17/17 [00:33<00:00,  1.95s/it]\n",
      "Gaps to fill in region 8: 100%|██████████████████| 96/96 [00:00<00:00, 126.74it/s]\n",
      "Gaps to simplify in region 9: 100%|███████████████| 35/35 [00:06<00:00,  5.27it/s]\n",
      "Gaps to fill in region 9: 100%|███████████████████| 44/44 [00:00<00:00, 51.62it/s]\n",
      "Gaps to simplify in region 10: 100%|██████████████| 57/57 [00:03<00:00, 15.52it/s]\n",
      "Gaps to fill in region 10: 100%|██████████████████| 35/35 [00:00<00:00, 90.23it/s]\n",
      "Gaps to simplify in region 11: 100%|██████████████| 50/50 [00:11<00:00,  4.40it/s]\n",
      "Gaps to fill in region 11: 100%|██████████████████| 94/94 [00:01<00:00, 91.81it/s]\n",
      "Gaps to simplify in region 12: 100%|██████████████| 21/21 [00:03<00:00,  5.34it/s]\n",
      "Gaps to fill in region 12: 100%|█████████████████| 60/60 [00:00<00:00, 113.10it/s]\n",
      "Gaps to simplify in region 13: 100%|██████████████| 51/51 [00:06<00:00,  7.79it/s]\n",
      "Gaps to fill in region 13: 100%|██████████████████| 47/47 [00:00<00:00, 54.66it/s]\n",
      "Gaps to simplify in region 14: 100%|██████████████| 31/31 [00:04<00:00,  6.79it/s]\n",
      "Gaps to fill in region 14: 100%|██████████████████| 52/52 [00:00<00:00, 72.66it/s]\n",
      "Gaps to simplify in region 15: 100%|██████████████| 32/32 [00:05<00:00,  5.63it/s]\n",
      "Gaps to fill in region 15: 100%|█████████████████| 39/39 [00:00<00:00, 110.80it/s]\n",
      "Gaps to simplify in region 16: 100%|██████████████| 84/84 [00:12<00:00,  6.66it/s]\n",
      "Gaps to fill in region 16: 100%|██████████████████| 87/87 [00:02<00:00, 39.59it/s]\n",
      "Gaps to simplify in region 17: 100%|██████████████| 71/71 [00:02<00:00, 32.26it/s]\n",
      "Gaps to fill in region 17: 100%|██████████████████| 10/10 [00:00<00:00, 69.91it/s]\n",
      "Gaps to simplify in region 18: 100%|██████████████| 36/36 [00:30<00:00,  1.18it/s]\n",
      "Gaps to fill in region 18: 100%|████████████████| 110/110 [00:01<00:00, 96.53it/s]\n",
      "Gaps to simplify in region 19: 100%|██████████████| 32/32 [00:02<00:00, 10.96it/s]\n",
      "Gaps to fill in region 19: 100%|██████████████████| 26/26 [00:00<00:00, 30.76it/s]\n",
      "Gaps to simplify in region 20: 100%|██████████████| 67/67 [00:01<00:00, 35.18it/s]\n",
      "Gaps to fill in region 20: 100%|██████████████████| 15/15 [00:00<00:00, 59.21it/s]\n",
      "Gaps to simplify in region 21: 100%|██████████████| 54/54 [00:08<00:00,  6.47it/s]\n",
      "Gaps to fill in region 21: 100%|██████████████████| 56/56 [00:01<00:00, 38.18it/s]\n",
      "Gaps to simplify in region 22: 100%|██████████████| 75/75 [00:08<00:00,  9.19it/s]\n",
      "Gaps to fill in region 22: 100%|██████████████████| 65/65 [00:00<00:00, 71.12it/s]\n",
      "Gaps to simplify in region 23: 100%|██████████████| 69/69 [00:06<00:00, 11.20it/s]\n",
      "Gaps to fill in region 23: 100%|█████████████████| 48/48 [00:00<00:00, 107.65it/s]\n",
      "Gaps to simplify in region 24: 100%|██████████████| 62/62 [00:03<00:00, 19.06it/s]\n",
      "Gaps to fill in region 24: 100%|██████████████████| 19/19 [00:00<00:00, 24.17it/s]\n",
      "Gaps to simplify in region 25: 100%|██████████████| 47/47 [00:02<00:00, 16.16it/s]\n",
      "Gaps to fill in region 25: 100%|██████████████████| 20/20 [00:00<00:00, 29.18it/s]\n",
      "Gaps to simplify in region 26: 100%|██████████████| 36/36 [00:04<00:00,  8.25it/s]\n",
      "Gaps to fill in region 26: 100%|██████████████████| 29/29 [00:00<00:00, 89.13it/s]\n",
      "Gaps to simplify in region 27: 100%|████████████| 236/236 [00:27<00:00,  8.50it/s]\n",
      "Gaps to fill in region 27: 100%|████████████████| 124/124 [00:01<00:00, 68.17it/s]\n",
      "Gaps to simplify in region 28: 100%|██████████████| 25/25 [00:16<00:00,  1.51it/s]\n",
      "Gaps to fill in region 28: 100%|█████████████████| 89/89 [00:00<00:00, 121.52it/s]\n",
      "Gaps to simplify in region 29: 100%|████████████| 321/321 [00:18<00:00, 17.72it/s]\n",
      "Gaps to fill in region 29: 100%|██████████████████| 56/56 [00:01<00:00, 33.95it/s]\n",
      "Gaps to simplify in region 30: 100%|██████████████| 22/22 [00:02<00:00,  8.11it/s]\n",
      "Gaps to fill in region 30: 100%|██████████████████| 20/20 [00:00<00:00, 62.55it/s]\n",
      "Gaps to simplify in region 31: 100%|██████████████| 16/16 [00:03<00:00,  4.03it/s]\n",
      "Gaps to fill in region 31: 100%|██████████████████| 41/41 [00:00<00:00, 96.26it/s]\n",
      "Gaps to simplify in region 32: 100%|██████████████| 35/35 [00:05<00:00,  6.23it/s]\n",
      "Gaps to fill in region 32: 100%|██████████████████| 33/33 [00:00<00:00, 48.03it/s]\n",
      "Gaps to simplify in region 33: 100%|██████████████| 22/22 [00:03<00:00,  6.44it/s]\n",
      "Gaps to fill in region 33: 100%|██████████████████| 43/43 [00:00<00:00, 81.90it/s]\n",
      "Gaps to simplify in region 34: 100%|██████████████| 42/42 [00:20<00:00,  2.04it/s]\n",
      "Gaps to fill in region 34: 100%|████████████████| 109/109 [00:02<00:00, 47.18it/s]\n",
      "Gaps to simplify in region 35: 100%|██████████████| 31/31 [00:16<00:00,  1.83it/s]\n",
      "Gaps to fill in region 35: 100%|██████████████████| 90/90 [00:01<00:00, 65.16it/s]\n",
      "Gaps to simplify in region 36: 100%|██████████████| 21/21 [00:13<00:00,  1.58it/s]\n",
      "Gaps to fill in region 36: 100%|██████████████████| 55/55 [00:00<00:00, 74.01it/s]\n",
      "Gaps to simplify in region 37: 100%|████████████████| 8/8 [00:26<00:00,  3.37s/it]\n",
      "Gaps to fill in region 37: 100%|█████████████████| 67/67 [00:00<00:00, 107.50it/s]\n",
      "Gaps to simplify in region 38: 100%|██████████████| 39/39 [00:01<00:00, 22.21it/s]\n",
      "Gaps to fill in region 38: 100%|██████████████████| 20/20 [00:00<00:00, 53.00it/s]\n",
      "Gaps to simplify in region 39: 100%|██████████████| 19/19 [00:04<00:00,  3.95it/s]\n",
      "Gaps to fill in region 39: 100%|██████████████████| 36/36 [00:01<00:00, 28.86it/s]\n",
      "Gaps to simplify in region 40: 100%|██████████████| 35/35 [00:03<00:00,  9.55it/s]\n",
      "Gaps to fill in region 40: 100%|██████████████████| 23/23 [00:00<00:00, 47.76it/s]\n",
      "Gaps to simplify in region 41: 100%|██████████████| 69/69 [00:22<00:00,  3.01it/s]\n",
      "Gaps to fill in region 41: 100%|████████████████| 104/104 [00:01<00:00, 58.62it/s]\n",
      "Gaps to simplify in region 42: 100%|██████████████| 31/31 [00:08<00:00,  3.75it/s]\n",
      "Gaps to fill in region 42: 100%|█████████████████| 93/93 [00:00<00:00, 101.34it/s]\n",
      "Gaps to simplify in region 43: 100%|██████████████| 14/14 [00:05<00:00,  2.38it/s]\n",
      "Gaps to fill in region 43: 100%|██████████████████| 23/23 [00:00<00:00, 42.13it/s]\n",
      "Gaps to simplify in region 44: 100%|████████████████| 6/6 [00:25<00:00,  4.20s/it]\n",
      "Gaps to fill in region 44: 100%|██████████████████| 85/85 [00:01<00:00, 52.75it/s]\n",
      "Gaps to simplify in region 45: 100%|██████████████| 32/32 [00:04<00:00,  7.94it/s]\n",
      "Gaps to fill in region 45: 100%|████████████████████| 8/8 [00:00<00:00,  9.79it/s]\n",
      "Gaps to simplify in region 46: 100%|██████████████| 47/47 [00:05<00:00,  9.23it/s]\n",
      "Gaps to fill in region 46: 100%|██████████████████| 51/51 [00:01<00:00, 46.93it/s]\n",
      "Gaps to simplify in region 47: 100%|██████████████| 59/59 [00:17<00:00,  3.30it/s]\n",
      "Gaps to fill in region 47: 100%|██████████████████| 78/78 [00:01<00:00, 60.72it/s]\n",
      "Gaps to simplify in region 48: 100%|██████████████| 58/58 [00:05<00:00, 11.04it/s]\n",
      "Gaps to fill in region 48: 100%|██████████████████| 38/38 [00:00<00:00, 42.88it/s]\n",
      "Gaps to simplify in region 49: 100%|██████████████| 16/16 [00:04<00:00,  3.30it/s]\n",
      "Gaps to fill in region 49: 100%|██████████████████| 34/34 [00:00<00:00, 65.28it/s]\n",
      "Gaps to simplify in region 50: 100%|██████████████| 13/13 [00:10<00:00,  1.27it/s]\n",
      "Gaps to fill in region 50: 100%|█████████████████| 69/69 [00:00<00:00, 111.10it/s]\n",
      "Gaps to simplify in region 51: 100%|██████████████| 33/33 [00:20<00:00,  1.65it/s]\n",
      "Gaps to fill in region 51: 100%|█████████████████| 59/59 [00:00<00:00, 106.22it/s]\n",
      "Gaps to simplify in region 52: 100%|██████████████| 35/35 [00:06<00:00,  5.48it/s]\n",
      "Gaps to fill in region 52: 100%|██████████████████| 60/60 [00:00<00:00, 75.62it/s]\n",
      "Gaps to simplify in region 53: 100%|██████████████| 49/49 [00:10<00:00,  4.89it/s]\n",
      "Gaps to fill in region 53: 100%|██████████████████| 96/96 [00:01<00:00, 85.47it/s]\n",
      "Gaps to simplify in region 54: 100%|██████████████| 16/16 [00:09<00:00,  1.67it/s]\n",
      "Gaps to fill in region 54: 100%|█████████████████| 69/69 [00:00<00:00, 101.15it/s]\n",
      "Gaps to simplify in region 55: 100%|██████████████| 42/42 [00:13<00:00,  3.15it/s]\n",
      "Gaps to fill in region 55: 100%|██████████████████| 63/63 [00:00<00:00, 74.09it/s]\n",
      "Gaps to simplify in region 56: 100%|██████████████| 40/40 [00:07<00:00,  5.49it/s]\n",
      "Gaps to fill in region 56: 100%|██████████████████| 67/67 [00:01<00:00, 47.38it/s]\n",
      "Gaps to simplify in region 57: 100%|██████████████| 34/34 [00:03<00:00, 10.17it/s]\n",
      "Gaps to fill in region 57: 100%|██████████████████| 38/38 [00:00<00:00, 72.67it/s]\n",
      "Gaps to simplify in region 58: 100%|██████████████| 13/13 [00:04<00:00,  2.75it/s]\n",
      "Gaps to fill in region 58: 100%|██████████████████| 32/32 [00:00<00:00, 69.72it/s]\n",
      "Gaps to simplify in region 59: 100%|██████████████| 31/31 [00:06<00:00,  5.10it/s]\n",
      "Gaps to fill in region 59: 100%|██████████████████| 36/36 [00:01<00:00, 30.84it/s]\n",
      "Gaps to simplify in region 60: 100%|██████████████| 50/50 [00:07<00:00,  6.27it/s]\n",
      "Gaps to fill in region 60: 100%|██████████████████| 44/44 [00:00<00:00, 63.24it/s]\n",
      "Gaps to simplify in region 61: 100%|██████████████| 36/36 [00:02<00:00, 17.64it/s]\n",
      "Gaps to fill in region 61: 100%|██████████████████| 20/20 [00:00<00:00, 61.00it/s]\n",
      "Gaps to simplify in region 62: 100%|████████████| 110/110 [00:14<00:00,  7.61it/s]\n",
      "Gaps to fill in region 62: 100%|██████████████████| 79/79 [00:01<00:00, 39.64it/s]\n",
      "Gaps to simplify in region 63: 100%|██████████████| 29/29 [00:04<00:00,  6.34it/s]\n",
      "Gaps to fill in region 63: 100%|████████████████████| 8/8 [00:00<00:00, 29.03it/s]\n",
      "Gaps to simplify in region 64: 100%|██████████████| 33/33 [00:07<00:00,  4.51it/s]\n",
      "Gaps to fill in region 64: 100%|██████████████████| 61/61 [00:01<00:00, 59.98it/s]\n",
      "Gaps to simplify in region 65: 100%|██████████████| 24/24 [00:05<00:00,  4.78it/s]\n",
      "Gaps to fill in region 65: 100%|██████████████████| 52/52 [00:00<00:00, 64.56it/s]\n",
      "Gaps to simplify in region 66: 100%|██████████████| 87/87 [00:11<00:00,  7.31it/s]\n",
      "Gaps to fill in region 66: 100%|██████████████████| 73/73 [00:01<00:00, 43.50it/s]\n",
      "Gaps to simplify in region 67: 100%|██████████████| 39/39 [00:02<00:00, 19.41it/s]\n",
      "Gaps to fill in region 67: 100%|██████████████████| 26/26 [00:00<00:00, 95.49it/s]\n",
      "Gaps to simplify in region 68: 100%|██████████████| 29/29 [00:02<00:00, 10.31it/s]\n",
      "Gaps to fill in region 68: 100%|██████████████████| 31/31 [00:00<00:00, 82.42it/s]\n",
      "Gaps to simplify in region 69: 100%|██████████████| 24/24 [00:07<00:00,  3.27it/s]\n",
      "Gaps to fill in region 69: 100%|██████████████████| 61/61 [00:00<00:00, 86.56it/s]\n",
      "Gaps to simplify in region 70: 100%|██████████████| 17/17 [00:09<00:00,  1.81it/s]\n",
      "Gaps to fill in region 70: 100%|██████████████████| 84/84 [00:00<00:00, 91.77it/s]\n",
      "Gaps to simplify in region 71: 100%|██████████████| 52/52 [00:10<00:00,  4.92it/s]\n",
      "Gaps to fill in region 71: 100%|██████████████████| 65/65 [00:00<00:00, 72.30it/s]\n",
      "Gaps to simplify in region 72: 100%|██████████████| 31/31 [00:09<00:00,  3.40it/s]\n",
      "Gaps to fill in region 72: 100%|██████████████████| 53/53 [00:00<00:00, 59.32it/s]\n",
      "Gaps to simplify in region 73: 100%|██████████████| 64/64 [00:15<00:00,  4.11it/s]\n",
      "Gaps to fill in region 73: 100%|██████████████████| 70/70 [00:01<00:00, 66.44it/s]\n",
      "Gaps to simplify in region 74: 100%|████████████| 105/105 [00:05<00:00, 19.75it/s]\n",
      "Gaps to fill in region 74: 100%|██████████████████| 48/48 [00:00<00:00, 73.99it/s]\n",
      "Gaps to simplify in region 75: 100%|██████████████| 67/67 [00:13<00:00,  4.84it/s]\n",
      "Gaps to fill in region 75: 100%|██████████████████| 81/81 [00:01<00:00, 47.83it/s]\n",
      "Gaps to simplify in region 76: 100%|██████████████| 23/23 [00:15<00:00,  1.50it/s]\n",
      "Gaps to fill in region 76: 100%|██████████████████| 74/74 [00:00<00:00, 98.35it/s]\n"
     ]
    }
   ],
   "source": [
    "vest_base = add_vest_base(vest_base_data, start_col, year, county = county_df)"
   ]
  },
  {
   "cell_type": "code",
   "execution_count": 26,
   "metadata": {
    "scrolled": true
   },
   "outputs": [
    {
     "name": "stdout",
     "output_type": "stream",
     "text": [
      "[0.0, 0.0, 0.0, 0.0, 0.0, 0.0, 0.0, 0.0, 0.0, 0.0, 0.0, 0.0, 0.0, 0.0, 0.0, 0.0, 0.0, 0.0, 0.0, 0.0, 0.0, 0.0, 0.0, 0.0, 0.0, 0.0, 0.0, 0.0, 0.0, 0.0, 0.0, 0.0, 0.0, 0.0, 0.0, 0.0, 0.0, 0.0, 0.0, 0.0, 0.0, 0.0, 0.0, 0.0, 0.0, 0.0, 0.0, 0.0, 0.0, 0.0, 0.0, 0.0, 0.0, 0.0, 0.0, 0.0, 0.0, 0.0, 0.0, 0.0, 0.0, 0.0, 0.0, 0.0, 0.0, 0.0, 0.0, 0.0, 0.0, 0.0, 0.0, 0.0, 0.0, 0.0, 0.0, 0.0, 0.0, 0.0, 0.0, 0.0, 0.0, 0.0, 0.0, 0.0, 0.0, 0.0, 0.0, 0.0, 0.0, 0.0, 0.0, 0.0, 0.0, 0.0, 0.0, 0.0, 0.0, 0.0, 0.0, 0.0, 0.0, 0.0, 0.0, 0.0, 0.0, 0.0, 0.0, 0.0, 0.0, 0.0, 0.0, 0.0, 0.0, 0.0, 0.0, 0.0, 0.0, 0.0, 0.0, 0.0, 0.0, 0.0, 0.0, 0.0, 0.0, 0.0, 0.0, 0.0, 0.0, 0.0, 0.0, 0.0, 0.0, 0.0, 0.0, 0.0, 0.0, 0.0, 0.0, 0.0, 0.0, 0.0, 0.0, 0.0, 0.0, 0.0, 0.0, 0.0, 0.0, 0.0, 0.0, 0.0, 0.0, 0.0, 0.0, 0.0, 0.0, 0.0, 0.0, 0.0, 0.0, 0.0, 0.0, 0.0, 0.0, 0.0, 0.0, 0.0, 0.0, 0.0, 0.0, 0.0, 0.0, 0.0, 0.0, 0.0, 0.0, 0.0, 0.0, 0.0, 0.0, 0.0, 0.0, 0.0, 0.0, 0.0, 0.0, 0.0, 0.0, 0.0, 0.0, 0.0, 0.0, 0.0, 0.0, 0.0, 0.0, 0.0, 0.0, 0.0, 0.0, 0.0, 0.0, 0.0, 0.0, 0.0, 0.0, 0.0, 0.0, 0.0, 0.0, 0.0, 0.0, 0.0, 0.0, 0.0, 0.0, 0.0, 0.0, 0.0, 0.0, 0.0, 0.0, 0.0, 0.0, 0.0, 0.0, 0.0, 0.0, 0.0, 0.0, 0.0, 0.0, 0.0, 0.0, 0.0, 0.0, 0.0, 0.0, 0.0, 0.0, 0.0, 0.0, 0.0, 0.0, 0.0, 0.0, 0.0, 0.0, 0.0, 0.0, 0.0, 0.0, 0.0, 0.0, 0.0, 0.0, 0.0, 0.0, 0.0, 0.0, 0.0, 0.0, 0.0, 0.0, 0.0, 0.0, 0.0, 0.0, 0.0, 0.0, 0.0, 0.0, 0.0, 0.0, 0.0, 0.0, 0.0, 0.0, 0.0, 0.0, 0.0, 0.0, 0.0, 0.0, 0.0, 0.0, 0.0, 0.0, 0.0, 0.0, 0.0, 0.0, 0.0, 0.0, 0.0, 0.0, 0.0, 0.0, 0.0, 0.0, 0.0, 0.0, 0.0, 0.0, 0.0, 0.0, 0.0, 0.0, 0.0, 0.0, 0.0, 0.0, 0.0, 0.0, 0.0, 0.0, 0.0, 0.0, 0.0, 0.0, 0.0, 0.0, 0.0, 0.0, 0.0, 0.0, 0.0, 0.0, 0.0, 0.0, 0.0, 0.0, 0.0, 0.0, 0.0, 0.0, 0.0, 0.0, 0.0, 0.0, 0.0, 0.0, 0.0, 0.0, 0.0, 0.0, 0.0, 0.0, 0.0, 0.0, 0.0, 0.0, 0.0, 0.0, 0.0, 0.0, 0.0, 0.0, 0.0, 0.0, 0.0, 0.0, 0.0, 0.0, 0.0, 0.0, 0.0, 0.0, 0.0, 0.0, 0.0, 0.0, 0.0, 0.0, 0.0, 0.0, 0.0, 0.0, 0.0, 0.0, 0.0, 0.0, 0.0, 0.0, 0.0, 0.0, 0.0, 0.0, 0.0, 0.0, 0.0, 0.0, 0.0, 0.0, 0.0, 0.0, 0.0, 0.0, 0.0, 0.0, 0.0, 0.0, 0.0, 0.0, 0.0, 0.0, 0.0, 0.0, 0.0, 0.0, 0.0, 0.0, 0.0, 0.0, 0.0, 0.0, 0.0, 0.0, 0.0, 0.0, 0.0, 0.0, 0.0, 0.0, 0.0, 0.0, 0.0, 0.0, 0.0, 0.0, 0.0, 0.0, 0.0, 0.0, 0.0, 0.0, 0.0, 0.0, 0.0, 0.0, 0.0, 0.0, 0.0, 0.0, 0.0, 0.0, 0.0, 0.0, 0.0, 0.0, 0.0, 0.0, 0.0, 0.0, 0.0, 0.0, 0.0, 0.0, 0.0, 0.0, 0.0, 0.0, 0.0, 0.0, 0.0, 0.0, 0.0, 0.0, 0.0, 0.0, 0.0, 0.0, 0.0, 0.0, 0.0, 0.0, 0.0, 0.0, 0.0, 0.0, 0.0, 0.0, 0.0, 0.0, 0.0, 0.0, 0.0, 0.0, 0.0, 0.0, 0.0, 0.0, 0.0, 0.0, 0.0, 0.0, 0.0, 0.0, 0.0, 0.0, 0.0, 0.0, 0.0, 0.0, 0.0, 0.0, 0.0, 0.0, 0.0, 0.0, 0.0, 0.0, 0.0, 0.0, 0.0, 0.0, 0.0, 0.0, 0.0, 0.0, 0.0, 0.0, 0.0, 0.0, 0.0, 0.0, 0.0, 0.0, 0.0, 0.0, 0.0, 0.0, 0.0, 0.0, 0.0, 0.0, 0.0, 0.0, 0.0, 0.0, 0.0, 0.0, 0.0, 0.0, 0.0, 0.0, 0.0, 0.0, 0.0, 0.0, 0.0, 0.0, 0.0, 0.0, 0.0, 0.0, 0.0, 0.0, 0.0, 0.0, 0.0, 0.0, 0.0, 0.0, 0.0, 0.0, 0.0, 0.0, 0.0, 0.0, 0.0, 0.0, 0.0, 0.0, 0.0, 0.0, 0.0, 0.0, 0.0, 0.0, 0.0, 0.0, 0.0, 0.0, 0.0, 0.0, 0.0, 0.0, 0.0, 0.0, 0.0, 0.0, 0.0, 0.0, 0.0, 0.0, 0.0, 0.0, 0.0, 0.0, 0.0, 0.0, 0.0, 0.0, 0.0, 0.0, 0.0, 0.0, 0.0, 0.0, 0.0, 0.0, 0.0, 0.0, 0.0, 0.0, 0.0, 0.0, 0.0, 0.0, 0.0, 0.0, 0.0, 0.0, 0.0, 0.0, 0.0, 0.0, 0.0, 0.0, 0.0, 0.0, 0.0, 0.0, 0.0, 0.0, 0.0, 0.0, 0.0, 0.0, 0.0, 0.0, 0.0, 0.0, 0.0, 0.0, 0.0, 0.0, 0.0, 0.0, 0.0, 0.0, 0.0, 0.0, 0.0, 0.0, 0.0, 0.0, 0.0, 0.0, 0.0, 0.0, 0.0, 0.0, 0.0, 0.0, 0.0, 0.0, 0.0, 0.0, 0.0, 0.0, 0.0, 0.0, 0.0, 0.0, 0.0, 0.0, 0.0, 0.0, 0.0, 0.0, 0.0, 0.0, 0.0, 0.0, 0.0, 0.0, 0.0, 0.0, 0.0, 0.0, 0.0, 0.0, 0.0, 0.0, 0.0, 0.0, 0.0, 0.0, 0.0, 0.0, 0.0, 0.0, 0.0, 0.0, 0.0, 0.0, 0.0, 0.0, 0.0, 0.0, 0.0, 0.0, 0.0, 0.0, 0.0, 0.0, 0.0, 0.0, 0.0, 0.0, 0.0, 0.0, 0.0, 0.0, 0.0, 0.0, 0.0, 0.0, 0.0, 0.0, 0.0, 0.0, 0.0, 0.0, 0.0, 0.0, 0.0, 0.0, 0.0, 0.0, 0.0, 0.0, 0.0, 0.0, 0.0, 0.0, 0.0, 0.0, 0.0, 0.0, 0.0, 0.0, 0.0, 0.0, 0.0, 0.0, 0.0, 0.0, 0.0, 0.0, 0.0, 0.0, 0.0, 0.0, 0.0, 0.0, 0.0, 0.0, 0.0, 0.0, 0.0, 0.0, 0.0, 0.0, 0.0, 0.0, 0.0, 0.0, 0.0, 0.0, 0.0, 0.0, 0.0, 0.0, 0.0, 0.0, 0.0, 0.0, 0.0, 0.0, 0.0, 0.0, 0.0, 0.0, 0.0, 0.0, 0.0, 0.0, 0.0, 0.0, 0.0, 0.0, 0.0, 0.0, 0.0, 0.0, 0.0, 0.0, 0.0, 0.0, 0.0, 0.0, 0.0, 0.0, 0.0, 0.0, 0.0, 0.0, 0.0, 0.0, 0.0, 0.0, 0.0, 0.0, 0.0, 0.0, 0.0, 0.0, 0.0, 0.0, 0.0, 0.0, 0.0, 0.0, 0.0, 0.0, 0.0, 0.0, 0.0, 0.0, 0.0, 0.0, 0.0, 0.0, 0.0, 0.0, 0.0, 0.0, 0.0, 0.0, 0.0, 0.0, 0.0, 0.0, 0.0, 0.0, 0.0, 0.0, 0.0, 0.0, 0.0, 0.0, 0.0, 0.0, 0.0, 0.0, 0.0, 0.0, 0.0, 0.0, 0.0, 0.0, 0.0, 0.0, 0.0, 0.0, 0.0, 0.0, 0.0, 0.0, 0.0, 0.0, 0.0, 0.0, 0.0, 0.0, 0.0, 0.0, 0.0, 0.0, 0.0, 0.0, 0.0, 0.0, 0.0, 0.0, 0.0, 0.0, 0.0, 0.0, 0.0, 0.0, 0.0, 0.0, 0.0, 0.0, 0.0, 0.0, 0.0, 0.0, 0.0, 0.0, 0.0, 0.0, 0.0, 0.0, 0.0, 0.0, 0.0, 0.0, 0.0, 0.0, 0.0, 0.0, 0.0, 0.0, 0.0, 0.0, 0.0, 0.0, 0.0, 0.0, 0.0, 0.0, 0.0, 0.0, 0.0, 0.0, 0.0, 0.0, 0.0, 0.0, 0.0, 0.0, 0.0, 0.0, 0.0, 0.0, 0.0, 0.0, 0.0, 0.0, 0.0, 0.0, 0.0, 0.0, 0.0, 0.0, 0.0, 0.0, 0.0, 0.0, 0.0, 0.0, 0.0, 0.0, 0.0, 0.0, 0.0, 0.0, 0.0, 0.0, 0.0, 0.0, 0.0, 0.0, 0.0, 0.0, 0.0, 0.0, 0.0, 0.0, 0.0, 0.0, 0.0, 0.0, 0.0, 0.0, 0.0, 0.0, 0.0, 0.0, 0.0, 0.0, 0.0, 0.0, 0.0, 0.0, 0.0, 0.0, 0.0, 0.0, 0.0, 0.0, 0.0, 0.0, 0.0, 0.0, 0.0, 0.0, 0.0, 0.0, 0.0, 0.0, 0.0, 0.0, 0.0, 0.0, 0.0, 0.0, 0.0, 0.0, 0.0, 0.0, 0.0, 0.0, 0.0, 0.0, 0.0, 0.0, 0.0, 0.0, 0.0, 0.0, 0.0, 0.0, 0.0, 0.0, 0.0, 0.0, 0.0, 0.0, 0.0, 0.0, 0.0, 0.0, 0.0, 0.0, 0.0, 0.0, 0.0, 0.0, 0.0, 0.0, 0.0, 0.0, 0.0, 0.0, 0.0, 0.0, 0.0, 0.0, 0.0, 0.0, 0.0, 0.0, 0.0, 0.0, 0.0, 0.0, 0.0, 0.0, 0.0, 0.0, 0.0, 0.0, 0.0, 0.0, 0.0, 0.0, 0.0, 0.0, 0.0, 0.0, 0.0, 0.0, 0.0, 0.0, 0.0, 0.0, 0.0, 0.0, 0.0, 0.0, 0.0, 0.0, 0.0, 0.0, 0.0, 0.0, 0.0, 0.0, 0.0, 0.0, 0.0, 0.0, 0.0, 0.0, 0.0, 0.0, 0.0, 0.0, 0.0, 0.0, 0.0, 0.0, 0.0, 0.0, 0.0, 0.0, 0.0, 0.0, 0.0, 0.0, 0.0, 0.0, 0.0, 0.0, 0.0, 0.0, 0.0, 0.0, 0.0, 0.0, 0.0, 0.0, 0.0, 0.0, 0.0, 0.0, 0.0, 0.0, 0.0, 0.0, 0.0, 0.0, 0.0, 0.0, 0.0, 0.0, 0.0, 0.0, 0.0, 0.0, 0.0, 0.0, 0.0, 0.0, 0.0, 0.0, 0.0, 0.0, 0.0, 0.0, 0.0, 0.0, 0.0, 0.0, 0.0, 0.0, 0.0, 0.0, 0.0, 0.0, 0.0, 0.0, 0.0, 0.0, 0.0, 0.0, 0.0, 0.0, 0.0, 0.0, 0.0, 0.0, 0.0, 0.0, 0.0, 0.0, 0.0, 0.0, 0.0, 0.0, 0.0, 0.0, 0.0, 0.0, 0.0, 0.0, 0.0, 0.0, 0.0, 0.0, 0.0, 0.0, 0.0, 0.0, 0.0, 0.0, 0.0, 0.0, 0.0, 0.0, 0.0, 0.0, 0.0, 0.0, 0.0, 0.0, 0.0, 0.0, 0.0, 0.0, 0.0, 0.0, 0.0, 0.0, 0.0, 0.0, 0.0, 0.0, 0.0, 0.0, 0.0, 0.0, 0.0, 0.0, 0.0, 0.0, 0.0, 0.0, 0.0, 0.0, 0.0, 0.0, 0.0, 0.0, 0.0, 0.0, 0.0, 0.0, 0.0, 0.0, 0.0, 0.0, 0.0, 0.0, 0.0, 0.0, 0.0, 0.0, 0.0, 0.0, 0.0, 0.0, 0.0, 0.0, 0.0, 0.0, 0.0, 0.0, 0.0, 0.0, 0.0, 0.0, 0.0, 0.0, 0.0, 0.0, 0.0, 0.0, 0.0, 0.0, 0.0, 0.0, 0.0, 0.0, 0.0, 0.0, 0.0, 0.0, 0.0, 0.0, 0.0, 0.0, 0.0, 0.0, 0.0, 0.0, 0.0, 0.0, 0.0, 0.0, 0.0, 0.0, 0.0, 0.0, 0.0, 0.0, 0.0, 0.0, 0.0, 0.0, 0.0, 0.0, 0.0, 0.0, 0.0, 0.0, 0.0, 0.0, 0.0, 0.0, 0.0, 0.0, 0.0, 0.0, 0.0, 0.0, 0.0, 0.0, 0.0, 0.0, 0.0, 0.0, 0.0, 0.0, 0.0, 0.0, 0.0, 0.0, 0.0, 0.0, 0.0, 0.0, 0.0, 0.0, 0.0, 0.0, 0.0, 0.0, 0.0, 0.0, 0.0, 0.0, 0.0, 0.0, 0.0, 0.0, 0.0, 0.0, 0.0, 0.0, 0.0, 0.0, 0.0, 0.0, 0.0, 0.0, 0.0, 0.0, 0.0, 0.0, 0.0, 0.0, 0.0, 0.0, 0.0, 0.0, 0.0, 0.0, 0.0, 0.0, 0.0, 0.0, 0.0, 0.0, 0.0, 0.0, 0.0, 0.0, 0.0, 0.0, 0.0, 0.0, 0.0, 0.2001723035571137, 0.2001723035571137, 0.20534462688222385, 0.20534462688222385, 0.36770864625689587, 0.36770864625689587, 0.7685120158352787, 0.7685120158352787, 1.0190998814556547, 1.0190998814556547, 1.2562653987109214, 1.2562653987109214, 1.336299507885733, 1.336299507885733, 1.3652441778686166, 1.3652441778686166, 1.375254981243286, 1.375254981243286, 1.4192128243613804, 1.4192128243613804, 1.4838373627590953, 1.4838373627590953, 1.5086648030825016, 1.5086648030825016, 2.9497773097915854, 2.9497773097915854, 3.836728655429799, 3.836728655429799, 3.9843710753593027, 3.9843710753593027, 5.208594598759389, 5.208594598759389, 5.990364262328352, 5.990364262328352, 7.160222873657777, 7.160222873657777, 9.53852845893284, 9.53852845893284, 10.205448670974876, 10.205448670974876, 10.343604016127063, 10.343604016127063, 10.36116032203047, 10.36116032203047, 13.642781390003613, 13.642781390003613, 15.054100074753622, 15.054100074753622, 15.222589476691407, 15.222589476691407, 15.781640358003001, 15.781640358003001, 17.080767566671273, 17.080767566671273, 17.188254173682953, 17.188254173682953, 17.634378974972922, 17.634378974972922, 20.00179985417735, 20.00179985417735, 20.775738599615345, 20.775738599615345, 20.92967598444887, 20.92967598444887, 22.09346666525883, 22.09346666525883, 22.32355665591369, 22.32355665591369, 22.96385204816754, 22.96385204816754, 26.399006040814317, 26.399006040814317, 28.28177317648892, 28.28177317648892, 28.757686393169443, 28.757686393169443, 31.360414286989283, 31.360414286989283, 33.05359376775994, 33.05359376775994, 33.212731327118995, 33.212731327118995, 34.89973387813417, 34.89973387813417, 34.96481830923173, 34.96481830923173, 38.74926831070931, 38.74926831070931, 41.11632999798395, 41.11632999798395, 44.39712081692976, 44.39712081692976, 47.55002982435478, 47.55002982435478, 48.12714191418491, 48.12714191418491, 48.365317879835935, 48.365317879835935, 50.55671932313165, 50.55671932313165, 50.69594804558465, 50.69594804558465, 53.36832546268025, 53.36832546268025, 54.06193254132892, 54.06193254132892, 56.720230881780644, 56.720230881780644, 60.63966264098073, 60.63966264098073, 60.94022355745291, 60.94022355745291, 63.034350959596495, 63.034350959596495, 65.02531581051872, 65.02531581051872, 65.40087341740237, 65.40087341740237, 67.21740973107347, 67.21740973107347, 76.59281085509419, 76.59281085509419, 76.65501542545519, 76.65501542545519, 80.32526465149918, 80.32526465149918, 90.39654079115759, 90.3965407911576, 90.74177643730371, 90.74177643730371, 90.90679599627086, 90.90679599627086, 92.84236761582889, 92.84236761582889, 96.1811792071443, 96.1811792071443, 98.3552672636708, 98.3552672636708, 99.12417637405298, 99.12417637405298, 106.26544488584787, 106.26544488584787, 107.60793953280843, 107.60793953280843, 107.84866248846728, 107.84866248846728, 108.21161956413569, 108.21161956413569, 109.51184164141274, 109.51184164141274, 111.09638185328313, 111.09638185328313, 116.42128884840422, 116.42128884840422, 117.2395062847909, 117.2395062847909, 118.15811498075315, 118.15811498075315, 118.39823205766832, 118.39823205766832, 119.30326069392461, 119.30326069392461, 120.23100032957906, 120.23100032957906, 121.51956302171055, 121.51956302171057, 127.69233859037824, 127.69233859037824, 130.63539187034752, 130.63539187034752, 130.80793606448555, 130.80793606448555, 132.29431421651208, 132.2943142165121, 134.37107724730078, 134.37107724730078, 138.95173047878703, 138.95173047878703, 140.7676036072649, 140.7676036072649, 141.99342211161346, 141.99342211161348, 145.01866122694366, 145.01866122694366, 145.7195536915235, 145.7195536915235, 148.53729738248913, 148.53729738248913, 152.53974338670335, 152.53974338670335, 152.56414246289498, 152.56414246289498, 153.3509091632347, 153.3509091632347, 155.77987886937748, 155.77987886937748, 155.97746455695741, 155.97746455695741, 156.90231015670724, 156.90231015670727, 157.11699961951155, 157.11699961951155, 158.5941292215232, 158.59412922152322, 161.3185724105297, 161.3185724105297, 164.7668932664506, 164.76689326645064, 166.28286741020443, 166.28286741020443, 168.4910133312436, 168.4910133312436, 170.5893679089606, 170.5893679089606, 173.2442063963848, 173.2442063963848, 173.70342813985522, 173.70342813985522, 174.02211465339082, 174.02211465339084, 174.5996493287762, 174.5996493287762, 178.70780848917542, 178.70780848917542, 179.1779742133408, 179.17797421334083, 184.93047185903436, 184.93047185903436, 187.75875717937006, 187.7587571793701, 189.9393359555027, 189.9393359555027, 190.13026173138798, 190.13026173138798, 190.4088313749365, 190.4088313749365, 193.39906241811894, 193.39906241811894, 194.5731598657706, 194.5731598657706, 196.36499539704556, 196.36499539704556, 197.92632076770474, 197.92632076770477, 198.17067596267802, 198.17067596267802, 198.8287812991851, 198.8287812991851, 200.55924529820913, 200.55924529820913, 201.82931881121846, 201.82931881121846, 206.0504945072521, 206.0504945072521, 213.05507976191865, 213.05507976191865, 213.97857144570125, 213.97857144570125, 214.6249931148388, 214.6249931148388, 222.5403979161311, 222.5403979161311, 225.42411979533492, 225.42411979533492, 228.41115112519756, 228.41115112519756, 230.4527328394822, 230.4527328394822, 236.0810393298654, 236.0810393298654, 237.6414671346156, 237.6414671346156, 238.74890689132658, 238.7489068913266, 238.99847060087953, 238.99847060087956, 239.76263061689627, 239.76263061689627, 249.5630087724871, 249.5630087724871, 249.98958594254208, 249.9895859425421, 250.2154112773544, 250.2154112773544, 250.3675866157289, 250.36758661572892, 254.4161693438269, 254.4161693438269, 257.9795362762544, 257.9795362762544, 262.2833127415553, 262.2833127415553, 263.81672564678166, 263.81672564678166, 265.28658616862185, 265.2865861686219, 265.4040644659832, 265.4040644659832, 269.92043695548267, 269.9204369554827]\n"
     ]
    }
   ],
   "source": [
    "borders = check_small_boundary_lengths(vest_base)\n",
    "print(borders[:1700])"
   ]
  },
  {
   "cell_type": "code",
   "execution_count": 27,
   "metadata": {
    "scrolled": true
   },
   "outputs": [
    {
     "name": "stdout",
     "output_type": "stream",
     "text": [
      "Snapping all geometries to a grid with precision 10^( -5 ) to avoid GEOS errors.\n",
      "Identifying overlaps...\n"
     ]
    },
    {
     "name": "stderr",
     "output_type": "stream",
     "text": [
      "100%|███████████████████████████████████████| 1952/1952 [00:00<00:00, 4141.53it/s]\n"
     ]
    },
    {
     "name": "stdout",
     "output_type": "stream",
     "text": [
      "Resolving overlaps...\n",
      "Filling gaps...\n"
     ]
    },
    {
     "name": "stderr",
     "output_type": "stream",
     "text": [
      "Gaps to simplify: 0it [00:00, ?it/s]\n",
      "Gaps to fill: 0it [00:00, ?it/s]\n"
     ]
    },
    {
     "name": "stdout",
     "output_type": "stream",
     "text": [
      "Converting small rook adjacencies to queen...\n"
     ]
    },
    {
     "name": "stderr",
     "output_type": "stream",
     "text": [
      "100%|███████████████████████████████████████| 1948/1948 [00:01<00:00, 1036.44it/s]\n",
      "100%|█████████████████████████████████████████████| 4/4 [00:00<00:00, 2760.32it/s]\n",
      "100%|█████████████████████████████████████████████| 4/4 [00:00<00:00, 3412.78it/s]\n",
      "100%|█████████████████████████████████████████████| 4/4 [00:00<00:00, 2899.12it/s]\n",
      "100%|█████████████████████████████████████████████| 4/4 [00:00<00:00, 2774.01it/s]\n",
      "100%|█████████████████████████████████████████████| 4/4 [00:00<00:00, 2602.73it/s]\n",
      "100%|█████████████████████████████████████████████| 5/5 [00:00<00:00, 3069.15it/s]\n",
      "100%|█████████████████████████████████████████████| 4/4 [00:00<00:00, 2841.19it/s]\n",
      "100%|█████████████████████████████████████████████| 4/4 [00:00<00:00, 2834.47it/s]\n",
      "100%|█████████████████████████████████████████████| 4/4 [00:00<00:00, 2785.99it/s]\n",
      "100%|█████████████████████████████████████████████| 4/4 [00:00<00:00, 2631.72it/s]\n",
      "100%|█████████████████████████████████████████████| 4/4 [00:00<00:00, 2880.21it/s]\n",
      "100%|█████████████████████████████████████████████| 4/4 [00:00<00:00, 2786.91it/s]\n",
      "100%|█████████████████████████████████████████████| 4/4 [00:00<00:00, 2395.38it/s]\n",
      "100%|█████████████████████████████████████████████| 4/4 [00:00<00:00, 2645.41it/s]\n",
      "100%|█████████████████████████████████████████████| 4/4 [00:00<00:00, 3164.92it/s]\n",
      "100%|█████████████████████████████████████████████| 4/4 [00:00<00:00, 2375.37it/s]\n",
      "100%|█████████████████████████████████████████████| 4/4 [00:00<00:00, 1766.21it/s]\n",
      "100%|█████████████████████████████████████████████| 4/4 [00:00<00:00, 2805.09it/s]\n",
      "100%|█████████████████████████████████████████████| 4/4 [00:00<00:00, 2762.14it/s]\n",
      "100%|█████████████████████████████████████████████| 4/4 [00:00<00:00, 2555.55it/s]\n",
      "100%|█████████████████████████████████████████████| 4/4 [00:00<00:00, 2787.38it/s]\n",
      "100%|█████████████████████████████████████████████| 4/4 [00:00<00:00, 2760.32it/s]\n",
      "100%|█████████████████████████████████████████████| 4/4 [00:00<00:00, 2591.08it/s]\n",
      "100%|█████████████████████████████████████████████| 4/4 [00:00<00:00, 2680.92it/s]\n",
      "100%|█████████████████████████████████████████████| 4/4 [00:00<00:00, 2607.59it/s]\n",
      "100%|█████████████████████████████████████████████| 4/4 [00:00<00:00, 2559.06it/s]\n",
      "100%|█████████████████████████████████████████████| 4/4 [00:00<00:00, 2556.33it/s]\n",
      "100%|█████████████████████████████████████████████| 4/4 [00:00<00:00, 2776.31it/s]\n",
      "100%|██████████████████████████████████████████████| 4/4 [00:00<00:00, 817.36it/s]\n",
      "100%|█████████████████████████████████████████████| 4/4 [00:00<00:00, 2443.52it/s]\n",
      "100%|█████████████████████████████████████████████| 4/4 [00:00<00:00, 2106.37it/s]\n",
      "100%|█████████████████████████████████████████████| 4/4 [00:00<00:00, 2750.81it/s]\n",
      "100%|█████████████████████████████████████████████| 4/4 [00:00<00:00, 1623.34it/s]\n",
      "100%|█████████████████████████████████████████████| 4/4 [00:00<00:00, 2888.14it/s]\n",
      "100%|█████████████████████████████████████████████| 4/4 [00:00<00:00, 2719.16it/s]\n",
      "100%|█████████████████████████████████████████████| 4/4 [00:00<00:00, 2720.92it/s]\n",
      "100%|█████████████████████████████████████████████| 4/4 [00:00<00:00, 2515.70it/s]\n",
      "100%|█████████████████████████████████████████████| 4/4 [00:00<00:00, 2817.81it/s]\n",
      "100%|███████████████████████████████████████| 1948/1948 [00:01<00:00, 1036.32it/s]\n"
     ]
    }
   ],
   "source": [
    "vest_base = do_smart_repair(vest_base, min_rook_length = 30.5)"
   ]
  },
  {
   "cell_type": "code",
   "execution_count": 28,
   "metadata": {},
   "outputs": [
    {
     "name": "stderr",
     "output_type": "stream",
     "text": [
      "100%|███████████████████████████████████████| 1948/1948 [00:01<00:00, 1047.53it/s]\n"
     ]
    },
    {
     "data": {
      "text/plain": [
       "True"
      ]
     },
     "execution_count": 28,
     "metadata": {},
     "output_type": "execute_result"
    }
   ],
   "source": [
    "maup.doctor(vest_base)"
   ]
  },
  {
   "cell_type": "markdown",
   "metadata": {},
   "source": [
    "## If it is true for maup doctor, we will use it as the base vest data."
   ]
  },
  {
   "cell_type": "code",
   "execution_count": 29,
   "metadata": {},
   "outputs": [
    {
     "name": "stderr",
     "output_type": "stream",
     "text": [
      "100%|████████████████████████████████████████| 1948/1948 [00:02<00:00, 663.13it/s]\n",
      "100%|████████████████████████████████████████| 1948/1948 [00:07<00:00, 277.62it/s]\n"
     ]
    }
   ],
   "source": [
    "# vap and population have the same GEOID20\n",
    "blocks_to_precincts_assignment = maup.assign(population_df.geometry, vest_base.geometry)"
   ]
  },
  {
   "cell_type": "code",
   "execution_count": 30,
   "metadata": {},
   "outputs": [],
   "source": [
    "vest_base[pop_col] = population_df[pop_col].groupby(blocks_to_precincts_assignment).sum()"
   ]
  },
  {
   "cell_type": "code",
   "execution_count": 31,
   "metadata": {},
   "outputs": [],
   "source": [
    "election_df = gpd.GeoDataFrame(vest_base)"
   ]
  },
  {
   "cell_type": "code",
   "execution_count": 32,
   "metadata": {},
   "outputs": [
    {
     "data": {
      "text/plain": [
       "Index(['COC20O', 'COC20R', 'COUNTYFP', 'COUNTY_NAM', 'GEOID', 'PCT_CEB',\n",
       "       'PRE20D', 'PRE20O', 'PRE20R', 'STATEFP', 'USS20D', 'USS20O', 'USS20R',\n",
       "       'geometry', 'TOTPOP', 'HISP', 'NH_WHITE', 'NH_BLACK', 'NH_AMIN',\n",
       "       'NH_ASIAN', 'NH_NHPI', 'NH_OTHER', 'NH_2MORE', 'H_WHITE', 'H_BLACK',\n",
       "       'H_AMIN', 'H_ASIAN', 'H_NHPI', 'H_OTHER', 'H_2MORE', 'VAP', 'HVAP',\n",
       "       'WVAP', 'BVAP', 'AMINVAP', 'ASIANVAP', 'NHPIVAP', 'OTHERVAP',\n",
       "       '2MOREVAP'],\n",
       "      dtype='object')"
      ]
     },
     "execution_count": 32,
     "metadata": {},
     "output_type": "execute_result"
    }
   ],
   "source": [
    "election_df.columns"
   ]
  },
  {
   "cell_type": "markdown",
   "metadata": {},
   "source": [
    "## Check if population agrees"
   ]
  },
  {
   "cell_type": "code",
   "execution_count": 33,
   "metadata": {},
   "outputs": [
    {
     "name": "stdout",
     "output_type": "stream",
     "text": [
      "population agrees\n"
     ]
    }
   ],
   "source": [
    "check_population(population_df, vest_base)"
   ]
  },
  {
   "cell_type": "markdown",
   "metadata": {},
   "source": [
    "## Add more vest data"
   ]
  },
  {
   "cell_type": "code",
   "execution_count": 34,
   "metadata": {},
   "outputs": [],
   "source": [
    "vest18 = gpd.read_file(vest18_data)"
   ]
  },
  {
   "cell_type": "code",
   "execution_count": 35,
   "metadata": {},
   "outputs": [
    {
     "data": {
      "text/plain": [
       "Index(['COUNTY', 'PRECINCT', 'PCT_CEB', 'G18GOVRSTI', 'G18GOVDEDM',\n",
       "       'G18GOVLPOW', 'G18LTGRPIN', 'G18LTGDPIT', 'G18LTGIHOL', 'G18ATGRHUN',\n",
       "       'G18ATGDMYL', 'G18TRERMCD', 'G18TREICOU', 'G18AUDRBYR', 'G18AUDLYEU',\n",
       "       'G18LABROSB', 'G18LABDDOR', 'G18LABIDIS', 'G18COCRANT', 'G18COCDMCC',\n",
       "       'G18COCISHO', 'G18INSRMUL', 'G18INSDFOB', 'G18SPIRHOF', 'G18SPIDCOX',\n",
       "       'G18SPIIHUF', 'geometry'],\n",
       "      dtype='object')"
      ]
     },
     "execution_count": 35,
     "metadata": {},
     "output_type": "execute_result"
    }
   ],
   "source": [
    "vest18.columns"
   ]
  },
  {
   "cell_type": "code",
   "execution_count": 36,
   "metadata": {},
   "outputs": [],
   "source": [
    "start_col = 3"
   ]
  },
  {
   "cell_type": "code",
   "execution_count": 37,
   "metadata": {},
   "outputs": [
    {
     "name": "stderr",
     "output_type": "stream",
     "text": [
      "100%|███████████████████████████████████████| 1951/1951 [00:01<00:00, 1015.90it/s]\n"
     ]
    },
    {
     "name": "stdout",
     "output_type": "stream",
     "text": [
      "There are 91 overlaps.\n",
      "There are 1085 holes.\n",
      "There are some invalid geometries.\n",
      "Snapping all geometries to a grid with precision 10^( -5 ) to avoid GEOS errors.\n",
      "Identifying overlaps...\n"
     ]
    },
    {
     "name": "stderr",
     "output_type": "stream",
     "text": [
      "100%|███████████████████████████████████████| 3929/3929 [00:00<00:00, 4560.75it/s]\n"
     ]
    },
    {
     "name": "stdout",
     "output_type": "stream",
     "text": [
      "Resolving overlaps...\n",
      "Assigning order 2 pieces...\n",
      "Filling gaps...\n"
     ]
    },
    {
     "name": "stderr",
     "output_type": "stream",
     "text": [
      "Gaps to simplify: 100%|█████████████████████████| 966/966 [01:59<00:00,  8.05it/s]\n",
      "Gaps to fill: 100%|███████████████████████████████| 31/31 [00:06<00:00,  4.60it/s]\n",
      "100%|███████████████████████████████████████| 1951/1951 [00:01<00:00, 1035.89it/s]\n",
      "100%|████████████████████████████████████████| 1951/1951 [00:03<00:00, 637.05it/s]\n",
      "100%|████████████████████████████████████████| 1951/1951 [00:10<00:00, 193.48it/s]\n",
      "100%|████████████████████████████████████████| 1948/1948 [00:02<00:00, 666.87it/s]\n",
      "100%|████████████████████████████████████████| 1948/1948 [00:06<00:00, 281.40it/s]\n"
     ]
    },
    {
     "name": "stdout",
     "output_type": "stream",
     "text": [
      "population agrees\n"
     ]
    }
   ],
   "source": [
    "election_df = add_vest(vest18, election_df, '18', population_df, start_col)"
   ]
  },
  {
   "cell_type": "code",
   "execution_count": 38,
   "metadata": {},
   "outputs": [
    {
     "data": {
      "text/plain": [
       "Index(['COUNTY', 'PRECINCT', 'PCT_CEB', 'G16PRERTRU', 'G16PREDCLI',\n",
       "       'G16PRELJOH', 'G16USSRLAN', 'G16USSDWOR', 'G16USSLMUR', 'G16USSIBRA',\n",
       "       'G16USSIBEA', 'geometry'],\n",
       "      dtype='object')"
      ]
     },
     "execution_count": 38,
     "metadata": {},
     "output_type": "execute_result"
    }
   ],
   "source": [
    "vest16 = gpd.read_file(vest16_data)\n",
    "vest16.columns"
   ]
  },
  {
   "cell_type": "code",
   "execution_count": 39,
   "metadata": {},
   "outputs": [],
   "source": [
    "start_col = 3"
   ]
  },
  {
   "cell_type": "code",
   "execution_count": 40,
   "metadata": {
    "scrolled": true
   },
   "outputs": [
    {
     "name": "stderr",
     "output_type": "stream",
     "text": [
      "100%|███████████████████████████████████████| 1956/1956 [00:01<00:00, 1057.42it/s]\n"
     ]
    },
    {
     "name": "stdout",
     "output_type": "stream",
     "text": [
      "There are 77 overlaps.\n",
      "There are 900 holes.\n",
      "There are some invalid geometries.\n",
      "Snapping all geometries to a grid with precision 10^( -5 ) to avoid GEOS errors.\n",
      "Identifying overlaps...\n"
     ]
    },
    {
     "name": "stderr",
     "output_type": "stream",
     "text": [
      "100%|███████████████████████████████████████| 3886/3886 [00:00<00:00, 4477.09it/s]\n"
     ]
    },
    {
     "name": "stdout",
     "output_type": "stream",
     "text": [
      "Resolving overlaps...\n",
      "Assigning order 2 pieces...\n",
      "Filling gaps...\n"
     ]
    },
    {
     "name": "stderr",
     "output_type": "stream",
     "text": [
      "Gaps to simplify: 100%|█████████████████████████| 943/943 [01:58<00:00,  7.95it/s]\n",
      "Gaps to fill: 100%|███████████████████████████████| 31/31 [00:06<00:00,  4.92it/s]\n",
      "100%|████████████████████████████████████████| 1956/1956 [00:02<00:00, 870.70it/s]\n",
      "100%|████████████████████████████████████████| 1956/1956 [00:03<00:00, 605.37it/s]\n",
      "100%|████████████████████████████████████████| 1956/1956 [00:10<00:00, 195.22it/s]\n",
      "100%|████████████████████████████████████████| 1948/1948 [00:03<00:00, 619.71it/s]\n",
      "100%|████████████████████████████████████████| 1948/1948 [00:07<00:00, 277.94it/s]\n"
     ]
    },
    {
     "name": "stdout",
     "output_type": "stream",
     "text": [
      "population agrees\n"
     ]
    }
   ],
   "source": [
    "election_df = add_vest(vest16, election_df, '16', population_df, start_col)"
   ]
  },
  {
   "cell_type": "code",
   "execution_count": 41,
   "metadata": {},
   "outputs": [
    {
     "name": "stderr",
     "output_type": "stream",
     "text": [
      "100%|███████████████████████████████████████| 1948/1948 [00:01<00:00, 1029.51it/s]\n"
     ]
    },
    {
     "data": {
      "text/plain": [
       "True"
      ]
     },
     "execution_count": 41,
     "metadata": {},
     "output_type": "execute_result"
    }
   ],
   "source": [
    "maup.doctor(election_df)"
   ]
  },
  {
   "cell_type": "markdown",
   "metadata": {},
   "source": [
    "##  Add the district data"
   ]
  },
  {
   "cell_type": "code",
   "execution_count": 42,
   "metadata": {},
   "outputs": [],
   "source": [
    "cd = gpd.read_file(cd_data)\n",
    "cd = cd.to_crs(cd.estimate_utm_crs())\n",
    "send = gpd.read_file(send_data)\n",
    "send = send.to_crs(send.estimate_utm_crs())\n",
    "hdist = gpd.read_file(hdist_data)\n",
    "hdist = hdist.to_crs(hdist.estimate_utm_crs())"
   ]
  },
  {
   "cell_type": "code",
   "execution_count": 43,
   "metadata": {},
   "outputs": [
    {
     "data": {
      "text/html": [
       "<div>\n",
       "<style scoped>\n",
       "    .dataframe tbody tr th:only-of-type {\n",
       "        vertical-align: middle;\n",
       "    }\n",
       "\n",
       "    .dataframe tbody tr th {\n",
       "        vertical-align: top;\n",
       "    }\n",
       "\n",
       "    .dataframe thead th {\n",
       "        text-align: right;\n",
       "    }\n",
       "</style>\n",
       "<table border=\"1\" class=\"dataframe\">\n",
       "  <thead>\n",
       "    <tr style=\"text-align: right;\">\n",
       "      <th></th>\n",
       "      <th>ID</th>\n",
       "      <th>AREA</th>\n",
       "      <th>DISTRICT</th>\n",
       "      <th>MEMBERS</th>\n",
       "      <th>LOCKED</th>\n",
       "      <th>NAME</th>\n",
       "      <th>POPULATION</th>\n",
       "      <th>NH_WHT</th>\n",
       "      <th>AP_BLK</th>\n",
       "      <th>AP_IND</th>\n",
       "      <th>...</th>\n",
       "      <th>F_18_AP_OT</th>\n",
       "      <th>F_H18_POP</th>\n",
       "      <th>DISTRICT_N</th>\n",
       "      <th>IDEAL_VALU</th>\n",
       "      <th>ALTERNATE1</th>\n",
       "      <th>POLSBY_PO1</th>\n",
       "      <th>PERIMETER</th>\n",
       "      <th>REOCK</th>\n",
       "      <th>DISTRICT_L</th>\n",
       "      <th>geometry</th>\n",
       "    </tr>\n",
       "  </thead>\n",
       "  <tbody>\n",
       "    <tr>\n",
       "      <th>0</th>\n",
       "      <td>1</td>\n",
       "      <td>1103.29736</td>\n",
       "      <td>1</td>\n",
       "      <td>1.0</td>\n",
       "      <td>None</td>\n",
       "      <td>None</td>\n",
       "      <td>791871</td>\n",
       "      <td>453790</td>\n",
       "      <td>91759</td>\n",
       "      <td>116914</td>\n",
       "      <td>...</td>\n",
       "      <td>0.096458</td>\n",
       "      <td>0.114364</td>\n",
       "      <td>1</td>\n",
       "      <td>791871.0</td>\n",
       "      <td>1.747803</td>\n",
       "      <td>0.327352</td>\n",
       "      <td>205.799220</td>\n",
       "      <td>0.441113</td>\n",
       "      <td>1|0%</td>\n",
       "      <td>POLYGON ((816202.505 3984725.649, 816189.737 3...</td>\n",
       "    </tr>\n",
       "    <tr>\n",
       "      <th>1</th>\n",
       "      <td>2</td>\n",
       "      <td>22414.75580</td>\n",
       "      <td>2</td>\n",
       "      <td>1.0</td>\n",
       "      <td>None</td>\n",
       "      <td>None</td>\n",
       "      <td>791871</td>\n",
       "      <td>478909</td>\n",
       "      <td>38478</td>\n",
       "      <td>231916</td>\n",
       "      <td>...</td>\n",
       "      <td>0.035639</td>\n",
       "      <td>0.043381</td>\n",
       "      <td>2</td>\n",
       "      <td>791871.0</td>\n",
       "      <td>1.924938</td>\n",
       "      <td>0.269877</td>\n",
       "      <td>1021.618270</td>\n",
       "      <td>0.440439</td>\n",
       "      <td>2|0%</td>\n",
       "      <td>POLYGON ((811881.294 3995970.634, 811877.469 3...</td>\n",
       "    </tr>\n",
       "    <tr>\n",
       "      <th>2</th>\n",
       "      <td>3</td>\n",
       "      <td>32900.69920</td>\n",
       "      <td>3</td>\n",
       "      <td>1.0</td>\n",
       "      <td>None</td>\n",
       "      <td>None</td>\n",
       "      <td>791871</td>\n",
       "      <td>476024</td>\n",
       "      <td>54778</td>\n",
       "      <td>94321</td>\n",
       "      <td>...</td>\n",
       "      <td>0.132794</td>\n",
       "      <td>0.169740</td>\n",
       "      <td>3</td>\n",
       "      <td>791871.0</td>\n",
       "      <td>2.063943</td>\n",
       "      <td>0.234749</td>\n",
       "      <td>1327.104660</td>\n",
       "      <td>0.271145</td>\n",
       "      <td>3|0%</td>\n",
       "      <td>POLYGON ((480968.830 3799683.878, 480906.451 3...</td>\n",
       "    </tr>\n",
       "    <tr>\n",
       "      <th>3</th>\n",
       "      <td>4</td>\n",
       "      <td>9891.65234</td>\n",
       "      <td>4</td>\n",
       "      <td>1.0</td>\n",
       "      <td>None</td>\n",
       "      <td>None</td>\n",
       "      <td>791870</td>\n",
       "      <td>506779</td>\n",
       "      <td>83688</td>\n",
       "      <td>105607</td>\n",
       "      <td>...</td>\n",
       "      <td>0.064828</td>\n",
       "      <td>0.083481</td>\n",
       "      <td>4</td>\n",
       "      <td>791871.0</td>\n",
       "      <td>1.994284</td>\n",
       "      <td>0.251435</td>\n",
       "      <td>703.115089</td>\n",
       "      <td>0.456904</td>\n",
       "      <td>4|-0%</td>\n",
       "      <td>POLYGON ((480968.830 3799683.878, 480973.430 3...</td>\n",
       "    </tr>\n",
       "    <tr>\n",
       "      <th>4</th>\n",
       "      <td>5</td>\n",
       "      <td>3584.01245</td>\n",
       "      <td>5</td>\n",
       "      <td>1.0</td>\n",
       "      <td>None</td>\n",
       "      <td>None</td>\n",
       "      <td>791870</td>\n",
       "      <td>491686</td>\n",
       "      <td>113995</td>\n",
       "      <td>85073</td>\n",
       "      <td>...</td>\n",
       "      <td>0.067048</td>\n",
       "      <td>0.081718</td>\n",
       "      <td>5</td>\n",
       "      <td>791871.0</td>\n",
       "      <td>1.708146</td>\n",
       "      <td>0.342728</td>\n",
       "      <td>362.505625</td>\n",
       "      <td>0.499027</td>\n",
       "      <td>5|-0%</td>\n",
       "      <td>POLYGON ((667716.715 3979112.164, 667787.241 3...</td>\n",
       "    </tr>\n",
       "  </tbody>\n",
       "</table>\n",
       "<p>5 rows × 48 columns</p>\n",
       "</div>"
      ],
      "text/plain": [
       "   ID         AREA DISTRICT  MEMBERS LOCKED  NAME  POPULATION  NH_WHT  AP_BLK  \\\n",
       "0   1   1103.29736        1      1.0   None  None      791871  453790   91759   \n",
       "1   2  22414.75580        2      1.0   None  None      791871  478909   38478   \n",
       "2   3  32900.69920        3      1.0   None  None      791871  476024   54778   \n",
       "3   4   9891.65234        4      1.0   None  None      791870  506779   83688   \n",
       "4   5   3584.01245        5      1.0   None  None      791870  491686  113995   \n",
       "\n",
       "   AP_IND  ...  F_18_AP_OT  F_H18_POP  DISTRICT_N  IDEAL_VALU  ALTERNATE1  \\\n",
       "0  116914  ...    0.096458   0.114364           1    791871.0    1.747803   \n",
       "1  231916  ...    0.035639   0.043381           2    791871.0    1.924938   \n",
       "2   94321  ...    0.132794   0.169740           3    791871.0    2.063943   \n",
       "3  105607  ...    0.064828   0.083481           4    791871.0    1.994284   \n",
       "4   85073  ...    0.067048   0.081718           5    791871.0    1.708146   \n",
       "\n",
       "   POLSBY_PO1    PERIMETER     REOCK  DISTRICT_L  \\\n",
       "0    0.327352   205.799220  0.441113        1|0%   \n",
       "1    0.269877  1021.618270  0.440439        2|0%   \n",
       "2    0.234749  1327.104660  0.271145        3|0%   \n",
       "3    0.251435   703.115089  0.456904       4|-0%   \n",
       "4    0.342728   362.505625  0.499027       5|-0%   \n",
       "\n",
       "                                            geometry  \n",
       "0  POLYGON ((816202.505 3984725.649, 816189.737 3...  \n",
       "1  POLYGON ((811881.294 3995970.634, 811877.469 3...  \n",
       "2  POLYGON ((480968.830 3799683.878, 480906.451 3...  \n",
       "3  POLYGON ((480968.830 3799683.878, 480973.430 3...  \n",
       "4  POLYGON ((667716.715 3979112.164, 667787.241 3...  \n",
       "\n",
       "[5 rows x 48 columns]"
      ]
     },
     "execution_count": 43,
     "metadata": {},
     "output_type": "execute_result"
    }
   ],
   "source": [
    "cd.head()"
   ]
  },
  {
   "cell_type": "code",
   "execution_count": 44,
   "metadata": {},
   "outputs": [
    {
     "name": "stderr",
     "output_type": "stream",
     "text": [
      "100%|███████████████████████████████████████████████| 5/5 [00:00<00:00, 99.01it/s]\n",
      "100%|███████████████████████████████████████████████| 5/5 [00:00<00:00, 61.82it/s]\n",
      "100%|███████████████████████████████████████████████| 5/5 [00:00<00:00, 12.71it/s]\n"
     ]
    }
   ],
   "source": [
    "election_df = add_district(cd, \"CD\", election_df, \"DISTRICT\")"
   ]
  },
  {
   "cell_type": "code",
   "execution_count": 45,
   "metadata": {},
   "outputs": [
    {
     "data": {
      "text/html": [
       "<div>\n",
       "<style scoped>\n",
       "    .dataframe tbody tr th:only-of-type {\n",
       "        vertical-align: middle;\n",
       "    }\n",
       "\n",
       "    .dataframe tbody tr th {\n",
       "        vertical-align: top;\n",
       "    }\n",
       "\n",
       "    .dataframe thead th {\n",
       "        text-align: right;\n",
       "    }\n",
       "</style>\n",
       "<table border=\"1\" class=\"dataframe\">\n",
       "  <thead>\n",
       "    <tr style=\"text-align: right;\">\n",
       "      <th></th>\n",
       "      <th>ID</th>\n",
       "      <th>AREA</th>\n",
       "      <th>DISTRICT</th>\n",
       "      <th>MEMBERS</th>\n",
       "      <th>LOCKED</th>\n",
       "      <th>NAME</th>\n",
       "      <th>POPULATION</th>\n",
       "      <th>WHITE</th>\n",
       "      <th>BLACK</th>\n",
       "      <th>AMINDIAN</th>\n",
       "      <th>...</th>\n",
       "      <th>DEVIATION</th>\n",
       "      <th>F_DEVIATIO</th>\n",
       "      <th>F_WHITE</th>\n",
       "      <th>F_BLACK</th>\n",
       "      <th>F_AMINDIAN</th>\n",
       "      <th>F_HISPANIC</th>\n",
       "      <th>F_AP_BLK</th>\n",
       "      <th>F_18_HISPA</th>\n",
       "      <th>DISTRICT_L</th>\n",
       "      <th>geometry</th>\n",
       "    </tr>\n",
       "  </thead>\n",
       "  <tbody>\n",
       "    <tr>\n",
       "      <th>0</th>\n",
       "      <td>4</td>\n",
       "      <td>13625.35050</td>\n",
       "      <td>27</td>\n",
       "      <td>1.0</td>\n",
       "      <td>None</td>\n",
       "      <td>None</td>\n",
       "      <td>80552</td>\n",
       "      <td>58226</td>\n",
       "      <td>1673</td>\n",
       "      <td>2189</td>\n",
       "      <td>...</td>\n",
       "      <td>-1935.0</td>\n",
       "      <td>-0.023458</td>\n",
       "      <td>0.722837</td>\n",
       "      <td>0.020769</td>\n",
       "      <td>0.027175</td>\n",
       "      <td>0.231925</td>\n",
       "      <td>0.029012</td>\n",
       "      <td>0.000019</td>\n",
       "      <td>27|-2.35%</td>\n",
       "      <td>POLYGON ((409700.240 3971237.658, 409703.907 3...</td>\n",
       "    </tr>\n",
       "    <tr>\n",
       "      <th>1</th>\n",
       "      <td>5</td>\n",
       "      <td>5809.40576</td>\n",
       "      <td>38</td>\n",
       "      <td>1.0</td>\n",
       "      <td>None</td>\n",
       "      <td>None</td>\n",
       "      <td>81575</td>\n",
       "      <td>60304</td>\n",
       "      <td>4313</td>\n",
       "      <td>2771</td>\n",
       "      <td>...</td>\n",
       "      <td>-912.0</td>\n",
       "      <td>-0.011056</td>\n",
       "      <td>0.739246</td>\n",
       "      <td>0.052872</td>\n",
       "      <td>0.033969</td>\n",
       "      <td>0.170175</td>\n",
       "      <td>0.070451</td>\n",
       "      <td>0.000013</td>\n",
       "      <td>38|-1.11%</td>\n",
       "      <td>POLYGON ((480968.830 3799683.878, 480906.451 3...</td>\n",
       "    </tr>\n",
       "    <tr>\n",
       "      <th>2</th>\n",
       "      <td>6</td>\n",
       "      <td>4388.56640</td>\n",
       "      <td>5</td>\n",
       "      <td>1.0</td>\n",
       "      <td>None</td>\n",
       "      <td>None</td>\n",
       "      <td>81765</td>\n",
       "      <td>53059</td>\n",
       "      <td>3431</td>\n",
       "      <td>12164</td>\n",
       "      <td>...</td>\n",
       "      <td>-722.0</td>\n",
       "      <td>-0.008753</td>\n",
       "      <td>0.648921</td>\n",
       "      <td>0.041962</td>\n",
       "      <td>0.148768</td>\n",
       "      <td>0.068134</td>\n",
       "      <td>0.059108</td>\n",
       "      <td>-0.000087</td>\n",
       "      <td>5|-0.88%</td>\n",
       "      <td>POLYGON ((915554.059 3894894.524, 915554.131 3...</td>\n",
       "    </tr>\n",
       "    <tr>\n",
       "      <th>3</th>\n",
       "      <td>10</td>\n",
       "      <td>3380.12451</td>\n",
       "      <td>6</td>\n",
       "      <td>1.0</td>\n",
       "      <td>None</td>\n",
       "      <td>None</td>\n",
       "      <td>83910</td>\n",
       "      <td>55477</td>\n",
       "      <td>2767</td>\n",
       "      <td>13213</td>\n",
       "      <td>...</td>\n",
       "      <td>1423.0</td>\n",
       "      <td>0.017251</td>\n",
       "      <td>0.661149</td>\n",
       "      <td>0.032976</td>\n",
       "      <td>0.157466</td>\n",
       "      <td>0.058646</td>\n",
       "      <td>0.051817</td>\n",
       "      <td>0.000089</td>\n",
       "      <td>6|1.73%</td>\n",
       "      <td>POLYGON ((855360.755 3761784.445, 855356.870 3...</td>\n",
       "    </tr>\n",
       "    <tr>\n",
       "      <th>4</th>\n",
       "      <td>318</td>\n",
       "      <td>1977.38623</td>\n",
       "      <td>4</td>\n",
       "      <td>1.0</td>\n",
       "      <td>None</td>\n",
       "      <td>None</td>\n",
       "      <td>80677</td>\n",
       "      <td>43403</td>\n",
       "      <td>593</td>\n",
       "      <td>23571</td>\n",
       "      <td>...</td>\n",
       "      <td>-1810.0</td>\n",
       "      <td>-0.021943</td>\n",
       "      <td>0.537985</td>\n",
       "      <td>0.007350</td>\n",
       "      <td>0.292165</td>\n",
       "      <td>0.046891</td>\n",
       "      <td>0.017564</td>\n",
       "      <td>0.000330</td>\n",
       "      <td>4|-2.19%</td>\n",
       "      <td>POLYGON ((858546.395 4028892.616, 858523.979 4...</td>\n",
       "    </tr>\n",
       "  </tbody>\n",
       "</table>\n",
       "<p>5 rows × 24 columns</p>\n",
       "</div>"
      ],
      "text/plain": [
       "    ID         AREA DISTRICT  MEMBERS LOCKED  NAME  POPULATION  WHITE  BLACK  \\\n",
       "0    4  13625.35050       27      1.0   None  None       80552  58226   1673   \n",
       "1    5   5809.40576       38      1.0   None  None       81575  60304   4313   \n",
       "2    6   4388.56640        5      1.0   None  None       81765  53059   3431   \n",
       "3   10   3380.12451        6      1.0   None  None       83910  55477   2767   \n",
       "4  318   1977.38623        4      1.0   None  None       80677  43403    593   \n",
       "\n",
       "   AMINDIAN  ...  DEVIATION  F_DEVIATIO   F_WHITE   F_BLACK  F_AMINDIAN  \\\n",
       "0      2189  ...    -1935.0   -0.023458  0.722837  0.020769    0.027175   \n",
       "1      2771  ...     -912.0   -0.011056  0.739246  0.052872    0.033969   \n",
       "2     12164  ...     -722.0   -0.008753  0.648921  0.041962    0.148768   \n",
       "3     13213  ...     1423.0    0.017251  0.661149  0.032976    0.157466   \n",
       "4     23571  ...    -1810.0   -0.021943  0.537985  0.007350    0.292165   \n",
       "\n",
       "   F_HISPANIC  F_AP_BLK  F_18_HISPA  DISTRICT_L  \\\n",
       "0    0.231925  0.029012    0.000019   27|-2.35%   \n",
       "1    0.170175  0.070451    0.000013   38|-1.11%   \n",
       "2    0.068134  0.059108   -0.000087    5|-0.88%   \n",
       "3    0.058646  0.051817    0.000089     6|1.73%   \n",
       "4    0.046891  0.017564    0.000330    4|-2.19%   \n",
       "\n",
       "                                            geometry  \n",
       "0  POLYGON ((409700.240 3971237.658, 409703.907 3...  \n",
       "1  POLYGON ((480968.830 3799683.878, 480906.451 3...  \n",
       "2  POLYGON ((915554.059 3894894.524, 915554.131 3...  \n",
       "3  POLYGON ((855360.755 3761784.445, 855356.870 3...  \n",
       "4  POLYGON ((858546.395 4028892.616, 858523.979 4...  \n",
       "\n",
       "[5 rows x 24 columns]"
      ]
     },
     "execution_count": 45,
     "metadata": {},
     "output_type": "execute_result"
    }
   ],
   "source": [
    "send.head()"
   ]
  },
  {
   "cell_type": "code",
   "execution_count": 46,
   "metadata": {},
   "outputs": [
    {
     "name": "stderr",
     "output_type": "stream",
     "text": [
      "100%|████████████████████████████████████████████| 48/48 [00:00<00:00, 284.12it/s]\n",
      "100%|████████████████████████████████████████████| 48/48 [00:00<00:00, 651.52it/s]\n",
      "100%|█████████████████████████████████████████████| 48/48 [00:00<00:00, 68.26it/s]\n"
     ]
    }
   ],
   "source": [
    "election_df = add_district(send, \"SEND\", election_df, \"DISTRICT\")"
   ]
  },
  {
   "cell_type": "code",
   "execution_count": 47,
   "metadata": {},
   "outputs": [
    {
     "data": {
      "text/html": [
       "<div>\n",
       "<style scoped>\n",
       "    .dataframe tbody tr th:only-of-type {\n",
       "        vertical-align: middle;\n",
       "    }\n",
       "\n",
       "    .dataframe tbody tr th {\n",
       "        vertical-align: top;\n",
       "    }\n",
       "\n",
       "    .dataframe thead th {\n",
       "        text-align: right;\n",
       "    }\n",
       "</style>\n",
       "<table border=\"1\" class=\"dataframe\">\n",
       "  <thead>\n",
       "    <tr style=\"text-align: right;\">\n",
       "      <th></th>\n",
       "      <th>ID</th>\n",
       "      <th>AREA</th>\n",
       "      <th>DISTRICT</th>\n",
       "      <th>MEMBERS</th>\n",
       "      <th>LOCKED</th>\n",
       "      <th>NAME</th>\n",
       "      <th>POPULATION</th>\n",
       "      <th>NH_WHT</th>\n",
       "      <th>AP_BLK</th>\n",
       "      <th>AP_IND</th>\n",
       "      <th>...</th>\n",
       "      <th>F_NH18_WHT</th>\n",
       "      <th>F_18_AP_BL</th>\n",
       "      <th>F_18_AP_IN</th>\n",
       "      <th>F_18_AP_AS</th>\n",
       "      <th>F_18_AP_HW</th>\n",
       "      <th>F_18_AP_OT</th>\n",
       "      <th>F_H18_POP</th>\n",
       "      <th>DISTRICT_N</th>\n",
       "      <th>DISTRICT_L</th>\n",
       "      <th>geometry</th>\n",
       "    </tr>\n",
       "  </thead>\n",
       "  <tbody>\n",
       "    <tr>\n",
       "      <th>0</th>\n",
       "      <td>1</td>\n",
       "      <td>2768.212640</td>\n",
       "      <td>1</td>\n",
       "      <td>1.0</td>\n",
       "      <td>None</td>\n",
       "      <td>None</td>\n",
       "      <td>38865</td>\n",
       "      <td>23181</td>\n",
       "      <td>3608</td>\n",
       "      <td>10003</td>\n",
       "      <td>...</td>\n",
       "      <td>0.646508</td>\n",
       "      <td>0.081554</td>\n",
       "      <td>0.223278</td>\n",
       "      <td>0.006095</td>\n",
       "      <td>0.008888</td>\n",
       "      <td>0.033813</td>\n",
       "      <td>0.043076</td>\n",
       "      <td>1</td>\n",
       "      <td>1|-0.86%</td>\n",
       "      <td>POLYGON ((871683.168 3881206.458, 871729.603 3...</td>\n",
       "    </tr>\n",
       "    <tr>\n",
       "      <th>1</th>\n",
       "      <td>2</td>\n",
       "      <td>1367.789790</td>\n",
       "      <td>10</td>\n",
       "      <td>1.0</td>\n",
       "      <td>None</td>\n",
       "      <td>None</td>\n",
       "      <td>39562</td>\n",
       "      <td>25941</td>\n",
       "      <td>1673</td>\n",
       "      <td>9518</td>\n",
       "      <td>...</td>\n",
       "      <td>0.706485</td>\n",
       "      <td>0.033351</td>\n",
       "      <td>0.206948</td>\n",
       "      <td>0.012197</td>\n",
       "      <td>0.001124</td>\n",
       "      <td>0.037549</td>\n",
       "      <td>0.044193</td>\n",
       "      <td>10</td>\n",
       "      <td>10|0.92%</td>\n",
       "      <td>POLYGON ((741027.451 4069209.146, 741028.799 4...</td>\n",
       "    </tr>\n",
       "    <tr>\n",
       "      <th>2</th>\n",
       "      <td>3</td>\n",
       "      <td>11.751698</td>\n",
       "      <td>100</td>\n",
       "      <td>1.0</td>\n",
       "      <td>None</td>\n",
       "      <td>None</td>\n",
       "      <td>39880</td>\n",
       "      <td>20390</td>\n",
       "      <td>9033</td>\n",
       "      <td>3138</td>\n",
       "      <td>...</td>\n",
       "      <td>0.566145</td>\n",
       "      <td>0.191917</td>\n",
       "      <td>0.069494</td>\n",
       "      <td>0.075179</td>\n",
       "      <td>0.002777</td>\n",
       "      <td>0.092561</td>\n",
       "      <td>0.105923</td>\n",
       "      <td>100</td>\n",
       "      <td>100|1.73%</td>\n",
       "      <td>POLYGON ((623340.866 3939836.381, 623341.699 3...</td>\n",
       "    </tr>\n",
       "    <tr>\n",
       "      <th>3</th>\n",
       "      <td>4</td>\n",
       "      <td>45.788029</td>\n",
       "      <td>101</td>\n",
       "      <td>1.0</td>\n",
       "      <td>None</td>\n",
       "      <td>None</td>\n",
       "      <td>39359</td>\n",
       "      <td>25332</td>\n",
       "      <td>6233</td>\n",
       "      <td>4519</td>\n",
       "      <td>...</td>\n",
       "      <td>0.684874</td>\n",
       "      <td>0.138794</td>\n",
       "      <td>0.099033</td>\n",
       "      <td>0.025508</td>\n",
       "      <td>0.002123</td>\n",
       "      <td>0.045995</td>\n",
       "      <td>0.056037</td>\n",
       "      <td>101</td>\n",
       "      <td>101|0.4%</td>\n",
       "      <td>POLYGON ((655757.831 3929087.727, 655940.799 3...</td>\n",
       "    </tr>\n",
       "    <tr>\n",
       "      <th>4</th>\n",
       "      <td>5</td>\n",
       "      <td>219.850677</td>\n",
       "      <td>11</td>\n",
       "      <td>1.0</td>\n",
       "      <td>None</td>\n",
       "      <td>None</td>\n",
       "      <td>39453</td>\n",
       "      <td>26943</td>\n",
       "      <td>1385</td>\n",
       "      <td>7874</td>\n",
       "      <td>...</td>\n",
       "      <td>0.726365</td>\n",
       "      <td>0.028252</td>\n",
       "      <td>0.171775</td>\n",
       "      <td>0.030448</td>\n",
       "      <td>0.001431</td>\n",
       "      <td>0.040232</td>\n",
       "      <td>0.045756</td>\n",
       "      <td>11</td>\n",
       "      <td>11|0.64%</td>\n",
       "      <td>POLYGON ((785145.013 4062994.783, 785146.347 4...</td>\n",
       "    </tr>\n",
       "  </tbody>\n",
       "</table>\n",
       "<p>5 rows × 46 columns</p>\n",
       "</div>"
      ],
      "text/plain": [
       "   ID         AREA DISTRICT  MEMBERS LOCKED  NAME  POPULATION  NH_WHT  AP_BLK  \\\n",
       "0   1  2768.212640        1      1.0   None  None       38865   23181    3608   \n",
       "1   2  1367.789790       10      1.0   None  None       39562   25941    1673   \n",
       "2   3    11.751698      100      1.0   None  None       39880   20390    9033   \n",
       "3   4    45.788029      101      1.0   None  None       39359   25332    6233   \n",
       "4   5   219.850677       11      1.0   None  None       39453   26943    1385   \n",
       "\n",
       "   AP_IND  ...  F_NH18_WHT  F_18_AP_BL  F_18_AP_IN  F_18_AP_AS  F_18_AP_HW  \\\n",
       "0   10003  ...    0.646508    0.081554    0.223278    0.006095    0.008888   \n",
       "1    9518  ...    0.706485    0.033351    0.206948    0.012197    0.001124   \n",
       "2    3138  ...    0.566145    0.191917    0.069494    0.075179    0.002777   \n",
       "3    4519  ...    0.684874    0.138794    0.099033    0.025508    0.002123   \n",
       "4    7874  ...    0.726365    0.028252    0.171775    0.030448    0.001431   \n",
       "\n",
       "   F_18_AP_OT  F_H18_POP  DISTRICT_N  DISTRICT_L  \\\n",
       "0    0.033813   0.043076           1    1|-0.86%   \n",
       "1    0.037549   0.044193          10    10|0.92%   \n",
       "2    0.092561   0.105923         100   100|1.73%   \n",
       "3    0.045995   0.056037         101    101|0.4%   \n",
       "4    0.040232   0.045756          11    11|0.64%   \n",
       "\n",
       "                                            geometry  \n",
       "0  POLYGON ((871683.168 3881206.458, 871729.603 3...  \n",
       "1  POLYGON ((741027.451 4069209.146, 741028.799 4...  \n",
       "2  POLYGON ((623340.866 3939836.381, 623341.699 3...  \n",
       "3  POLYGON ((655757.831 3929087.727, 655940.799 3...  \n",
       "4  POLYGON ((785145.013 4062994.783, 785146.347 4...  \n",
       "\n",
       "[5 rows x 46 columns]"
      ]
     },
     "execution_count": 47,
     "metadata": {},
     "output_type": "execute_result"
    }
   ],
   "source": [
    "hdist.head()"
   ]
  },
  {
   "cell_type": "code",
   "execution_count": 48,
   "metadata": {},
   "outputs": [
    {
     "name": "stderr",
     "output_type": "stream",
     "text": [
      "100%|██████████████████████████████████████████| 101/101 [00:00<00:00, 296.63it/s]\n",
      "100%|█████████████████████████████████████████| 101/101 [00:00<00:00, 1152.43it/s]\n",
      "100%|██████████████████████████████████████████| 101/101 [00:00<00:00, 122.94it/s]\n"
     ]
    }
   ],
   "source": [
    "election_df = add_district(hdist, \"HDIST\", election_df, \"DISTRICT\")"
   ]
  },
  {
   "cell_type": "code",
   "execution_count": 49,
   "metadata": {},
   "outputs": [
    {
     "name": "stderr",
     "output_type": "stream",
     "text": [
      "100%|███████████████████████████████████████| 1948/1948 [00:01<00:00, 1039.48it/s]\n"
     ]
    },
    {
     "data": {
      "text/plain": [
       "True"
      ]
     },
     "execution_count": 49,
     "metadata": {},
     "output_type": "execute_result"
    }
   ],
   "source": [
    "maup.doctor(election_df)"
   ]
  },
  {
   "cell_type": "code",
   "execution_count": 57,
   "metadata": {},
   "outputs": [
    {
     "name": "stdout",
     "output_type": "stream",
     "text": [
      "population agrees\n"
     ]
    }
   ],
   "source": [
    "check_population(population_df, election_df)"
   ]
  },
  {
   "cell_type": "markdown",
   "metadata": {},
   "source": [
    "### Put the base precinct year after the precinct information column"
   ]
  },
  {
   "cell_type": "code",
   "execution_count": 51,
   "metadata": {},
   "outputs": [],
   "source": [
    "base_columns = {\n",
    "    'COUNTYFP':'COUNTYFP'+year,\n",
    "    'COUNTY_NAM':'COUNTY_NAM'+year,\n",
    "    'GEOID':'GEOID'+year,\n",
    "    'STATEFP':'STATEFP'+year,\n",
    "    'PCT_CEB':'PCT_CEB'+year,\n",
    "}\n",
    "election_df.rename(columns=base_columns, inplace = True)"
   ]
  },
  {
   "cell_type": "code",
   "execution_count": 53,
   "metadata": {},
   "outputs": [],
   "source": [
    "# reorder the columns\n",
    "fixed_columns = [\n",
    "    'COUNTYFP'+year,\n",
    "    'COUNTY_NAM'+year,\n",
    "    'GEOID'+year,\n",
    "    'STATEFP'+year,\n",
    "    'PCT_CEB'+year,\n",
    "    'CD',\n",
    "    'SEND',\n",
    "    'HDIST',\n",
    "    'TOTPOP',\n",
    "    'NH_2MORE',\n",
    "    'NH_AMIN',\n",
    "    'NH_ASIAN',\n",
    "    'NH_BLACK',\n",
    "    'NH_NHPI',\n",
    "    'NH_OTHER',\n",
    "    'NH_WHITE',\n",
    "    'HISP',\n",
    "    'H_AMIN',\n",
    "    'H_ASIAN',\n",
    "    'H_BLACK',\n",
    "    'H_NHPI',\n",
    "    'H_OTHER',\n",
    "    'H_WHITE',\n",
    "    'H_2MORE',\n",
    "    'VAP',\n",
    "    'HVAP',\n",
    "    'WVAP',\n",
    "    'BVAP',\n",
    "    'AMINVAP',\n",
    "    'ASIANVAP',\n",
    "    'NHPIVAP',\n",
    "    'OTHERVAP',\n",
    "    '2MOREVAP']\n",
    "\n",
    "election_columns = [col for col in election_df.columns if col not in fixed_columns]\n",
    "final_col = fixed_columns + election_columns\n",
    "election_df = election_df[final_col]"
   ]
  },
  {
   "cell_type": "code",
   "execution_count": 55,
   "metadata": {},
   "outputs": [],
   "source": [
    "import os\n",
    "\n",
    "# store the result in directory \"il\"\n",
    "directory = \"./{}\".format(state_ab)\n",
    "if not os.path.exists(directory):\n",
    "    os.makedirs(directory)\n",
    "\n",
    "shapefile_path = \"./{}/{}.shp\".format(state_ab, state_ab)\n",
    "geojson_path = './{}/{}.geojson'.format(state_ab, state_ab)\n",
    "json_path = \"./{}.json\".format(state_ab, state_ab)\n",
    "\n",
    "# Check if the shapefile or geojson file already exists\n",
    "if os.path.exists(shapefile_path):\n",
    "    os.remove(shapefile_path)\n",
    "if os.path.exists(geojson_path):\n",
    "    os.remove(geojson_path)\n",
    "\n",
    "election_df.to_file(shapefile_path)\n",
    "election_df.to_file(geojson_path, driver='GeoJSON')\n",
    "\n",
    "# Only do once to build json and read from file when generating ensembles\n",
    "graph = Graph.from_file(shapefile_path, ignore_errors=True)\n",
    "graph.to_json(json_path)"
   ]
  },
  {
   "cell_type": "code",
   "execution_count": 56,
   "metadata": {},
   "outputs": [
    {
     "data": {
      "text/plain": [
       "<Axes: >"
      ]
     },
     "execution_count": 56,
     "metadata": {},
     "output_type": "execute_result"
    },
    {
     "data": {
      "image/png": "[encoded data removed]",
      "text/plain": [
       "<Figure size 640x480 with 1 Axes>"
      ]
     },
     "metadata": {},
     "output_type": "display_data"
    }
   ],
   "source": [
    "shapefile_path = \"./{}/{}.shp\".format(state_ab, state_ab)\n",
    "shape=gpd.read_file(shapefile_path)\n",
    "shape.plot()"
   ]
  },
  {
   "cell_type": "code",
   "execution_count": null,
   "metadata": {},
   "outputs": [],
   "source": []
  }
 ],
 "metadata": {
  "kernelspec": {
   "display_name": "maup",
   "language": "python",
   "name": "maup"
  },
  "language_info": {
   "codemirror_mode": {
    "name": "ipython",
    "version": 3
   },
   "file_extension": ".py",
   "mimetype": "text/x-python",
   "name": "python",
   "nbconvert_exporter": "python",
   "pygments_lexer": "ipython3",
   "version": "3.12.6"
  }
 },
 "nbformat": 4,
 "nbformat_minor": 4
}
